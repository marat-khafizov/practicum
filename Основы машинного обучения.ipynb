{
 "cells": [
  {
   "cell_type": "markdown",
   "metadata": {},
   "source": [
    "<div class=\"alert alert-info\"> <p2>\n",
    "Привет! Меня зовут Позднякова Кристина. Я буду проверять твой проект. Предлагаю обращаться на «ты», но если так не удобно для тебя - дай знать, и мы перейдем на «вы»:). Моя основная цель проверки проекта — не просто указать на совершенные тобою ошибки, а поделиться своим опытом и помочь доработать код так, как хорошо было бы его писать в реальном рабочем проекте. Почти все ключевые этапы в работе выполнены и соблюдены, так что в целом почти справиться с задачей тебе удалось. Работа получилась хорошая! \n",
    "</p2>\n",
    "    <br>\n",
    "    <br>\n",
    "<p2>\n",
    "Есть только один аспект, который требует твоего внимания. Комментарий по нему помечен красным цветом (❌). После доработки, с учетом этого момента, проект будет принят. Осталось совсем немного, буду ждать твою работу на повторное ревью:) Зелёным цветом (✔️) отмечены хорошие, удачные и элегантные решения, на которые можно опираться в будущих проектах. Из контекста будет более понятно что хорошо, а что просто великолепно!:) Жёлтым цветом (⚠️) выделено то, что в следующий раз можно сделать по-другому. Ты можешь учесть эти комментарии при выполнении будущих заданий или доработать проект сейчас (однако это не обязательно). \n",
    "</p2>\n",
    "    <br>\n",
    "    <br>\n",
    "<p2>\n",
    "Давай работать над проектом взаимодействуя друг с другом: если ты что-то меняешь в проекте — пиши об этом, пожалуйста. Выбери для своих комментариев какой-то заметный цвет, отличный от выбранных мной, так мне будет легче отследить изменения. В названии моих комментариев будет номер версии начиная со второй. Пожалуйста, не перемещай, не изменяй и не удаляй мои комментарии. Всё это поможет выполнить повторную проверку твоего проекта оперативнее:)  \n",
    "</p2>\n",
    "        <br>\n",
    "    <br>\n",
    "Хорошего дня:)\n",
    "</div>"
   ]
  },
  {
   "cell_type": "markdown",
   "metadata": {},
   "source": [
    "---\n",
    "<p class=\"text-danger\">\n",
    "Привет, Кристина!     \n",
    "Спасибо за проверку и ценные комментарии. В последние дни что-то странное творится с онлайн-тетрадкой. Все недописанные моменты, конечно же, были написаны и сохранены. Прошу прощения, не проверил на технический сбой перед отправкой.</p>\n",
    "\n",
    "---"
   ]
  },
  {
   "cell_type": "markdown",
   "metadata": {},
   "source": [
    "<div class=\"alert alert-info\">\n",
    "<b>Комментарий ревьюера v2</b>    <br>\n",
    "Поняла, бывает) Я очень рада, что у тебя получилось доработать проект! Работу принимаю:) Я отметила ниже, что ошибка исправлена и оставила комментарии) <br>\n",
    "У тебя очень хорошо получилось справиться с проектом! Было приятно поработать) Желаю тебе успехов в стараниях и уверена что у тебя все получится!\n",
    "<br>\n",
    "<br>\n",
    "Хорошего дня!:)"
   ]
  },
  {
   "cell_type": "markdown",
   "metadata": {},
   "source": [
    "# Оглавление\n",
    "[Описание проекта](#step1)  \n",
    "[Описание данных](#step2)  \n",
    "[Знакомство с данными](#step3)  \n",
    "[Исследовательский анализ](#step4)  \n",
    "[Модель прогнозирования оттока](#step5)  \n",
    "[Кластеризация посетителей](#step6)  \n",
    "[Общие выводы](#step7)  \n",
    "[Рекомендации](#step8)  "
   ]
  },
  {
   "cell_type": "markdown",
   "metadata": {},
   "source": [
    "<div class=\"alert alert-warning\"> \n",
    "⚠️ Кажется не до конца доработано огравление)"
   ]
  },
  {
   "cell_type": "markdown",
   "metadata": {},
   "source": [
    "<p class=\"text-danger\">Исправлено.</p>  \n",
    "\n",
    "---"
   ]
  },
  {
   "cell_type": "markdown",
   "metadata": {},
   "source": [
    "<div class=\"alert alert-success\">\n",
    "<b>Комментарий ревьюера v2</b>    <br>\n",
    "✔️ Да, есть"
   ]
  },
  {
   "cell_type": "markdown",
   "metadata": {},
   "source": [
    "# Описание проекта\n",
    "<a id='step1'></a>\n",
    "Сеть фитнес-центров «Культурист-датасаентист» разрабатывает стратегию взаимодействия с клиентами на основе аналитических данных.\n",
    "Распространённая проблема фитнес-клубов и других сервисов — отток клиентов. Как понять, что клиент больше не с вами?\n",
    "Для фитнес-центра можно считать, что клиент попал в отток, если за последний месяц ни разу не посетил спортзал. Конечно, не исключено, что он уехал на Бали и по приезде обязательно продолжит ходить на фитнес. Однако чаще бывает наоборот. Если клиент начал новую жизнь с понедельника, немного походил в спортзал, а потом пропал — скорее всего, он не вернётся.\n",
    "Чтобы бороться с оттоком, отдел по работе с клиентами «Культуриста-датасаентиста» перевёл в электронный вид множество клиентских анкет. Ваша задача — провести анализ и подготовить план действий по удержанию клиентов.\n",
    "А именно:\n",
    "- научиться прогнозировать вероятность оттока (на уровне следующего месяца) для каждого клиента;\n",
    "- сформировать типичные портреты клиентов: выделить несколько наиболее ярких групп и охарактеризовать их основные свойства;\n",
    "- проанализировать основные признаки, наиболее сильно влияющие на отток;\n",
    "- сформулировать основные выводы и разработать рекомендации по повышению качества работы с клиентами"
   ]
  },
  {
   "cell_type": "markdown",
   "metadata": {},
   "source": [
    "# Описание данных\n",
    "<a id='step2'></a>\n",
    "`gender` — пол;  \n",
    "`Near_Location` — проживание или работа в районе, где находится фитнес-центр;  \n",
    "`Partner` — сотрудник компании-партнёра клуба (сотрудничество с компаниями, чьи сотрудники могут получать скидки на абонемент — в таком случае фитнес-центр хранит информацию о работодателе клиента);  \n",
    "`Promo_friends` — факт первоначальной записи в рамках акции «приведи друга» (использовал промо-код от знакомого при оплате первого абонемента);  \n",
    "`Phone` — наличие контактного телефона;  \n",
    "`Age` — возраст;  \n",
    "`Lifetime` — время с момента первого обращения в фитнес-центр (в месяцах).   \n",
    "`Contract_period` — длительность текущего действующего абонемента (месяц, 6 месяцев, год);  \n",
    "`Month_to_end_contract` — срок до окончания текущего действующего абонемента (в месяцах);  \n",
    "`Group_visits` — факт посещения групповых занятий;  \n",
    "`Avg_class_frequency_total` — средняя частота посещений в неделю за все время с начала действия абонемента;  \n",
    "`Avg_class_frequency_current_month` — средняя частота посещений в неделю за предыдущий месяц;  \n",
    "`Avg_additional_charges_total` — суммарная выручка от других услуг фитнес-центра: кафе, спорттовары, косметический и массажный салон.  \n",
    "`Churn` — факт оттока в текущем месяце.  "
   ]
  },
  {
   "cell_type": "markdown",
   "metadata": {},
   "source": [
    "<div class=\"alert alert-success\">\n",
    "✔️ Хорошее вступление к проекту"
   ]
  },
  {
   "cell_type": "code",
   "execution_count": 1,
   "metadata": {},
   "outputs": [],
   "source": [
    "import pandas as pd\n",
    "import seaborn as sns\n",
    "from sklearn.preprocessing import StandardScaler\n",
    "from sklearn.model_selection import train_test_split\n",
    "from sklearn.ensemble import RandomForestClassifier\n",
    "from sklearn.linear_model import LogisticRegression\n",
    "import sklearn.metrics as skmt\n",
    "import matplotlib.pyplot as plt\n",
    "from scipy.cluster.hierarchy import dendrogram, linkage\n",
    "from sklearn.cluster import KMeans as KMeans"
   ]
  },
  {
   "cell_type": "markdown",
   "metadata": {},
   "source": [
    "# Знакомство с данными\n",
    "<a id='step3'></a>\n",
    "Прочитаем из csv-файла данные, посмотрим на общую информацию и первые строки."
   ]
  },
  {
   "cell_type": "code",
   "execution_count": 2,
   "metadata": {
    "scrolled": false
   },
   "outputs": [
    {
     "name": "stdout",
     "output_type": "stream",
     "text": [
      "<class 'pandas.core.frame.DataFrame'>\n",
      "RangeIndex: 4000 entries, 0 to 3999\n",
      "Data columns (total 14 columns):\n",
      " #   Column                             Non-Null Count  Dtype  \n",
      "---  ------                             --------------  -----  \n",
      " 0   gender                             4000 non-null   int64  \n",
      " 1   Near_Location                      4000 non-null   int64  \n",
      " 2   Partner                            4000 non-null   int64  \n",
      " 3   Promo_friends                      4000 non-null   int64  \n",
      " 4   Phone                              4000 non-null   int64  \n",
      " 5   Contract_period                    4000 non-null   int64  \n",
      " 6   Group_visits                       4000 non-null   int64  \n",
      " 7   Age                                4000 non-null   int64  \n",
      " 8   Avg_additional_charges_total       4000 non-null   float64\n",
      " 9   Month_to_end_contract              4000 non-null   float64\n",
      " 10  Lifetime                           4000 non-null   int64  \n",
      " 11  Avg_class_frequency_total          4000 non-null   float64\n",
      " 12  Avg_class_frequency_current_month  4000 non-null   float64\n",
      " 13  Churn                              4000 non-null   int64  \n",
      "dtypes: float64(4), int64(10)\n",
      "memory usage: 437.6 KB\n",
      "None\n"
     ]
    },
    {
     "data": {
      "text/html": [
       "<div>\n",
       "<style scoped>\n",
       "    .dataframe tbody tr th:only-of-type {\n",
       "        vertical-align: middle;\n",
       "    }\n",
       "\n",
       "    .dataframe tbody tr th {\n",
       "        vertical-align: top;\n",
       "    }\n",
       "\n",
       "    .dataframe thead th {\n",
       "        text-align: right;\n",
       "    }\n",
       "</style>\n",
       "<table border=\"1\" class=\"dataframe\">\n",
       "  <thead>\n",
       "    <tr style=\"text-align: right;\">\n",
       "      <th></th>\n",
       "      <th>gender</th>\n",
       "      <th>Near_Location</th>\n",
       "      <th>Partner</th>\n",
       "      <th>Promo_friends</th>\n",
       "      <th>Phone</th>\n",
       "      <th>Contract_period</th>\n",
       "      <th>Group_visits</th>\n",
       "      <th>Age</th>\n",
       "      <th>Avg_additional_charges_total</th>\n",
       "      <th>Month_to_end_contract</th>\n",
       "      <th>Lifetime</th>\n",
       "      <th>Avg_class_frequency_total</th>\n",
       "      <th>Avg_class_frequency_current_month</th>\n",
       "      <th>Churn</th>\n",
       "    </tr>\n",
       "  </thead>\n",
       "  <tbody>\n",
       "    <tr>\n",
       "      <th>0</th>\n",
       "      <td>1</td>\n",
       "      <td>1</td>\n",
       "      <td>1</td>\n",
       "      <td>1</td>\n",
       "      <td>0</td>\n",
       "      <td>6</td>\n",
       "      <td>1</td>\n",
       "      <td>29</td>\n",
       "      <td>14.227470</td>\n",
       "      <td>5.0</td>\n",
       "      <td>3</td>\n",
       "      <td>0.020398</td>\n",
       "      <td>0.000000</td>\n",
       "      <td>0</td>\n",
       "    </tr>\n",
       "    <tr>\n",
       "      <th>1</th>\n",
       "      <td>0</td>\n",
       "      <td>1</td>\n",
       "      <td>0</td>\n",
       "      <td>0</td>\n",
       "      <td>1</td>\n",
       "      <td>12</td>\n",
       "      <td>1</td>\n",
       "      <td>31</td>\n",
       "      <td>113.202938</td>\n",
       "      <td>12.0</td>\n",
       "      <td>7</td>\n",
       "      <td>1.922936</td>\n",
       "      <td>1.910244</td>\n",
       "      <td>0</td>\n",
       "    </tr>\n",
       "    <tr>\n",
       "      <th>2</th>\n",
       "      <td>0</td>\n",
       "      <td>1</td>\n",
       "      <td>1</td>\n",
       "      <td>0</td>\n",
       "      <td>1</td>\n",
       "      <td>1</td>\n",
       "      <td>0</td>\n",
       "      <td>28</td>\n",
       "      <td>129.448479</td>\n",
       "      <td>1.0</td>\n",
       "      <td>2</td>\n",
       "      <td>1.859098</td>\n",
       "      <td>1.736502</td>\n",
       "      <td>0</td>\n",
       "    </tr>\n",
       "    <tr>\n",
       "      <th>3</th>\n",
       "      <td>0</td>\n",
       "      <td>1</td>\n",
       "      <td>1</td>\n",
       "      <td>1</td>\n",
       "      <td>1</td>\n",
       "      <td>12</td>\n",
       "      <td>1</td>\n",
       "      <td>33</td>\n",
       "      <td>62.669863</td>\n",
       "      <td>12.0</td>\n",
       "      <td>2</td>\n",
       "      <td>3.205633</td>\n",
       "      <td>3.357215</td>\n",
       "      <td>0</td>\n",
       "    </tr>\n",
       "    <tr>\n",
       "      <th>4</th>\n",
       "      <td>1</td>\n",
       "      <td>1</td>\n",
       "      <td>1</td>\n",
       "      <td>1</td>\n",
       "      <td>1</td>\n",
       "      <td>1</td>\n",
       "      <td>0</td>\n",
       "      <td>26</td>\n",
       "      <td>198.362265</td>\n",
       "      <td>1.0</td>\n",
       "      <td>3</td>\n",
       "      <td>1.113884</td>\n",
       "      <td>1.120078</td>\n",
       "      <td>0</td>\n",
       "    </tr>\n",
       "  </tbody>\n",
       "</table>\n",
       "</div>"
      ],
      "text/plain": [
       "   gender  Near_Location  Partner  Promo_friends  Phone  Contract_period  \\\n",
       "0       1              1        1              1      0                6   \n",
       "1       0              1        0              0      1               12   \n",
       "2       0              1        1              0      1                1   \n",
       "3       0              1        1              1      1               12   \n",
       "4       1              1        1              1      1                1   \n",
       "\n",
       "   Group_visits  Age  Avg_additional_charges_total  Month_to_end_contract  \\\n",
       "0             1   29                     14.227470                    5.0   \n",
       "1             1   31                    113.202938                   12.0   \n",
       "2             0   28                    129.448479                    1.0   \n",
       "3             1   33                     62.669863                   12.0   \n",
       "4             0   26                    198.362265                    1.0   \n",
       "\n",
       "   Lifetime  Avg_class_frequency_total  Avg_class_frequency_current_month  \\\n",
       "0         3                   0.020398                           0.000000   \n",
       "1         7                   1.922936                           1.910244   \n",
       "2         2                   1.859098                           1.736502   \n",
       "3         2                   3.205633                           3.357215   \n",
       "4         3                   1.113884                           1.120078   \n",
       "\n",
       "   Churn  \n",
       "0      0  \n",
       "1      0  \n",
       "2      0  \n",
       "3      0  \n",
       "4      0  "
      ]
     },
     "execution_count": 2,
     "metadata": {},
     "output_type": "execute_result"
    }
   ],
   "source": [
    "df = pd.read_csv('/datasets/gym_churn.csv')\n",
    "print(df.info())\n",
    "df.head(5)"
   ]
  },
  {
   "cell_type": "markdown",
   "metadata": {},
   "source": [
    "Подправим название одного столбца для консистентности и приведем названия столбцов к нижнему регистру."
   ]
  },
  {
   "cell_type": "code",
   "execution_count": 3,
   "metadata": {
    "scrolled": true
   },
   "outputs": [],
   "source": [
    "df = df.rename(columns={'gender': 'Gender'})"
   ]
  },
  {
   "cell_type": "code",
   "execution_count": 4,
   "metadata": {},
   "outputs": [],
   "source": [
    "df = df.rename(str.lower, axis='columns')"
   ]
  },
  {
   "cell_type": "markdown",
   "metadata": {},
   "source": [
    "<div class=\"alert alert-warning\"> \n",
    "⚠️ Вообще считается одним из правил хорошего написания наименований признаков — написание в нижнем регистре"
   ]
  },
  {
   "cell_type": "markdown",
   "metadata": {},
   "source": [
    "\n",
    "<p class=\"text-danger\">\n",
    "Спасибо, забыл, что это делается одной строкой:) Исправил.</p>\n",
    "\n",
    "---\n",
    " "
   ]
  },
  {
   "cell_type": "markdown",
   "metadata": {},
   "source": [
    "<div class=\"alert alert-success\">\n",
    "<b>Комментарий ревьюера v2</b>    <br>\n",
    "✔️ Исправлено)"
   ]
  },
  {
   "cell_type": "markdown",
   "metadata": {},
   "source": [
    "**Вывод**  \n",
    "В данных нет пропусков, типы данных соответствуют заявленной задаче. Можно переходить к иследовательскому анализу."
   ]
  },
  {
   "cell_type": "markdown",
   "metadata": {},
   "source": [
    "<div class=\"alert alert-success\">\n",
    "✔️ 👍"
   ]
  },
  {
   "cell_type": "markdown",
   "metadata": {},
   "source": [
    "# Исследовательский анализ\n",
    "<a id='step4'></a>\n",
    "Посмотрим на распределения признаков в табличном виде."
   ]
  },
  {
   "cell_type": "code",
   "execution_count": 5,
   "metadata": {
    "scrolled": false
   },
   "outputs": [
    {
     "data": {
      "text/html": [
       "<div>\n",
       "<style scoped>\n",
       "    .dataframe tbody tr th:only-of-type {\n",
       "        vertical-align: middle;\n",
       "    }\n",
       "\n",
       "    .dataframe tbody tr th {\n",
       "        vertical-align: top;\n",
       "    }\n",
       "\n",
       "    .dataframe thead th {\n",
       "        text-align: right;\n",
       "    }\n",
       "</style>\n",
       "<table border=\"1\" class=\"dataframe\">\n",
       "  <thead>\n",
       "    <tr style=\"text-align: right;\">\n",
       "      <th></th>\n",
       "      <th>gender</th>\n",
       "      <th>near_location</th>\n",
       "      <th>partner</th>\n",
       "      <th>promo_friends</th>\n",
       "      <th>phone</th>\n",
       "      <th>contract_period</th>\n",
       "      <th>group_visits</th>\n",
       "      <th>age</th>\n",
       "      <th>avg_additional_charges_total</th>\n",
       "      <th>month_to_end_contract</th>\n",
       "      <th>lifetime</th>\n",
       "      <th>avg_class_frequency_total</th>\n",
       "      <th>avg_class_frequency_current_month</th>\n",
       "      <th>churn</th>\n",
       "    </tr>\n",
       "  </thead>\n",
       "  <tbody>\n",
       "    <tr>\n",
       "      <th>count</th>\n",
       "      <td>4000.000000</td>\n",
       "      <td>4000.000000</td>\n",
       "      <td>4000.000000</td>\n",
       "      <td>4000.000000</td>\n",
       "      <td>4000.000000</td>\n",
       "      <td>4000.000000</td>\n",
       "      <td>4000.000000</td>\n",
       "      <td>4000.000000</td>\n",
       "      <td>4000.000000</td>\n",
       "      <td>4000.000000</td>\n",
       "      <td>4000.000000</td>\n",
       "      <td>4000.000000</td>\n",
       "      <td>4000.000000</td>\n",
       "      <td>4000.000000</td>\n",
       "    </tr>\n",
       "    <tr>\n",
       "      <th>mean</th>\n",
       "      <td>0.510250</td>\n",
       "      <td>0.845250</td>\n",
       "      <td>0.486750</td>\n",
       "      <td>0.308500</td>\n",
       "      <td>0.903500</td>\n",
       "      <td>4.681250</td>\n",
       "      <td>0.412250</td>\n",
       "      <td>29.184250</td>\n",
       "      <td>146.943728</td>\n",
       "      <td>4.322750</td>\n",
       "      <td>3.724750</td>\n",
       "      <td>1.879020</td>\n",
       "      <td>1.767052</td>\n",
       "      <td>0.265250</td>\n",
       "    </tr>\n",
       "    <tr>\n",
       "      <th>std</th>\n",
       "      <td>0.499957</td>\n",
       "      <td>0.361711</td>\n",
       "      <td>0.499887</td>\n",
       "      <td>0.461932</td>\n",
       "      <td>0.295313</td>\n",
       "      <td>4.549706</td>\n",
       "      <td>0.492301</td>\n",
       "      <td>3.258367</td>\n",
       "      <td>96.355602</td>\n",
       "      <td>4.191297</td>\n",
       "      <td>3.749267</td>\n",
       "      <td>0.972245</td>\n",
       "      <td>1.052906</td>\n",
       "      <td>0.441521</td>\n",
       "    </tr>\n",
       "    <tr>\n",
       "      <th>min</th>\n",
       "      <td>0.000000</td>\n",
       "      <td>0.000000</td>\n",
       "      <td>0.000000</td>\n",
       "      <td>0.000000</td>\n",
       "      <td>0.000000</td>\n",
       "      <td>1.000000</td>\n",
       "      <td>0.000000</td>\n",
       "      <td>18.000000</td>\n",
       "      <td>0.148205</td>\n",
       "      <td>1.000000</td>\n",
       "      <td>0.000000</td>\n",
       "      <td>0.000000</td>\n",
       "      <td>0.000000</td>\n",
       "      <td>0.000000</td>\n",
       "    </tr>\n",
       "    <tr>\n",
       "      <th>25%</th>\n",
       "      <td>0.000000</td>\n",
       "      <td>1.000000</td>\n",
       "      <td>0.000000</td>\n",
       "      <td>0.000000</td>\n",
       "      <td>1.000000</td>\n",
       "      <td>1.000000</td>\n",
       "      <td>0.000000</td>\n",
       "      <td>27.000000</td>\n",
       "      <td>68.868830</td>\n",
       "      <td>1.000000</td>\n",
       "      <td>1.000000</td>\n",
       "      <td>1.180875</td>\n",
       "      <td>0.963003</td>\n",
       "      <td>0.000000</td>\n",
       "    </tr>\n",
       "    <tr>\n",
       "      <th>50%</th>\n",
       "      <td>1.000000</td>\n",
       "      <td>1.000000</td>\n",
       "      <td>0.000000</td>\n",
       "      <td>0.000000</td>\n",
       "      <td>1.000000</td>\n",
       "      <td>1.000000</td>\n",
       "      <td>0.000000</td>\n",
       "      <td>29.000000</td>\n",
       "      <td>136.220159</td>\n",
       "      <td>1.000000</td>\n",
       "      <td>3.000000</td>\n",
       "      <td>1.832768</td>\n",
       "      <td>1.719574</td>\n",
       "      <td>0.000000</td>\n",
       "    </tr>\n",
       "    <tr>\n",
       "      <th>75%</th>\n",
       "      <td>1.000000</td>\n",
       "      <td>1.000000</td>\n",
       "      <td>1.000000</td>\n",
       "      <td>1.000000</td>\n",
       "      <td>1.000000</td>\n",
       "      <td>6.000000</td>\n",
       "      <td>1.000000</td>\n",
       "      <td>31.000000</td>\n",
       "      <td>210.949625</td>\n",
       "      <td>6.000000</td>\n",
       "      <td>5.000000</td>\n",
       "      <td>2.536078</td>\n",
       "      <td>2.510336</td>\n",
       "      <td>1.000000</td>\n",
       "    </tr>\n",
       "    <tr>\n",
       "      <th>max</th>\n",
       "      <td>1.000000</td>\n",
       "      <td>1.000000</td>\n",
       "      <td>1.000000</td>\n",
       "      <td>1.000000</td>\n",
       "      <td>1.000000</td>\n",
       "      <td>12.000000</td>\n",
       "      <td>1.000000</td>\n",
       "      <td>41.000000</td>\n",
       "      <td>552.590740</td>\n",
       "      <td>12.000000</td>\n",
       "      <td>31.000000</td>\n",
       "      <td>6.023668</td>\n",
       "      <td>6.146783</td>\n",
       "      <td>1.000000</td>\n",
       "    </tr>\n",
       "  </tbody>\n",
       "</table>\n",
       "</div>"
      ],
      "text/plain": [
       "            gender  near_location      partner  promo_friends        phone  \\\n",
       "count  4000.000000    4000.000000  4000.000000    4000.000000  4000.000000   \n",
       "mean      0.510250       0.845250     0.486750       0.308500     0.903500   \n",
       "std       0.499957       0.361711     0.499887       0.461932     0.295313   \n",
       "min       0.000000       0.000000     0.000000       0.000000     0.000000   \n",
       "25%       0.000000       1.000000     0.000000       0.000000     1.000000   \n",
       "50%       1.000000       1.000000     0.000000       0.000000     1.000000   \n",
       "75%       1.000000       1.000000     1.000000       1.000000     1.000000   \n",
       "max       1.000000       1.000000     1.000000       1.000000     1.000000   \n",
       "\n",
       "       contract_period  group_visits          age  \\\n",
       "count      4000.000000   4000.000000  4000.000000   \n",
       "mean          4.681250      0.412250    29.184250   \n",
       "std           4.549706      0.492301     3.258367   \n",
       "min           1.000000      0.000000    18.000000   \n",
       "25%           1.000000      0.000000    27.000000   \n",
       "50%           1.000000      0.000000    29.000000   \n",
       "75%           6.000000      1.000000    31.000000   \n",
       "max          12.000000      1.000000    41.000000   \n",
       "\n",
       "       avg_additional_charges_total  month_to_end_contract     lifetime  \\\n",
       "count                   4000.000000            4000.000000  4000.000000   \n",
       "mean                     146.943728               4.322750     3.724750   \n",
       "std                       96.355602               4.191297     3.749267   \n",
       "min                        0.148205               1.000000     0.000000   \n",
       "25%                       68.868830               1.000000     1.000000   \n",
       "50%                      136.220159               1.000000     3.000000   \n",
       "75%                      210.949625               6.000000     5.000000   \n",
       "max                      552.590740              12.000000    31.000000   \n",
       "\n",
       "       avg_class_frequency_total  avg_class_frequency_current_month  \\\n",
       "count                4000.000000                        4000.000000   \n",
       "mean                    1.879020                           1.767052   \n",
       "std                     0.972245                           1.052906   \n",
       "min                     0.000000                           0.000000   \n",
       "25%                     1.180875                           0.963003   \n",
       "50%                     1.832768                           1.719574   \n",
       "75%                     2.536078                           2.510336   \n",
       "max                     6.023668                           6.146783   \n",
       "\n",
       "             churn  \n",
       "count  4000.000000  \n",
       "mean      0.265250  \n",
       "std       0.441521  \n",
       "min       0.000000  \n",
       "25%       0.000000  \n",
       "50%       0.000000  \n",
       "75%       1.000000  \n",
       "max       1.000000  "
      ]
     },
     "execution_count": 5,
     "metadata": {},
     "output_type": "execute_result"
    }
   ],
   "source": [
    "df.describe()"
   ]
  },
  {
   "cell_type": "markdown",
   "metadata": {},
   "source": [
    "Видим примерно следующую картину:\n",
    "- большинство проживает или работает в том же районе,\n",
    "- половина всех посетителей работают в компаниях-партнерах,\n",
    "- возраст большинства в районе 29 лет,\n",
    "- многие впервые обратились в клуб меньше полугода назад,\n",
    "- большинство ходит 2 раза в неделю и не особо любит групповые занятия,\n",
    "- половина ходит по месячному абонементу,\n",
    "- на каждого посетителя в среднем приходится около 150 руб дополнительных трат."
   ]
  },
  {
   "cell_type": "markdown",
   "metadata": {},
   "source": [
    "<div class=\"alert alert-success\">\n",
    "✔️ Да, верно"
   ]
  },
  {
   "cell_type": "markdown",
   "metadata": {},
   "source": [
    "Сгруппируем датасет по оттоку и посмотрим на средние значения показателей."
   ]
  },
  {
   "cell_type": "code",
   "execution_count": 6,
   "metadata": {
    "scrolled": true
   },
   "outputs": [
    {
     "data": {
      "text/html": [
       "<div>\n",
       "<style scoped>\n",
       "    .dataframe tbody tr th:only-of-type {\n",
       "        vertical-align: middle;\n",
       "    }\n",
       "\n",
       "    .dataframe tbody tr th {\n",
       "        vertical-align: top;\n",
       "    }\n",
       "\n",
       "    .dataframe thead th {\n",
       "        text-align: right;\n",
       "    }\n",
       "</style>\n",
       "<table border=\"1\" class=\"dataframe\">\n",
       "  <thead>\n",
       "    <tr style=\"text-align: right;\">\n",
       "      <th></th>\n",
       "      <th>gender</th>\n",
       "      <th>near_location</th>\n",
       "      <th>partner</th>\n",
       "      <th>promo_friends</th>\n",
       "      <th>phone</th>\n",
       "      <th>contract_period</th>\n",
       "      <th>group_visits</th>\n",
       "      <th>age</th>\n",
       "      <th>avg_additional_charges_total</th>\n",
       "      <th>month_to_end_contract</th>\n",
       "      <th>lifetime</th>\n",
       "      <th>avg_class_frequency_total</th>\n",
       "      <th>avg_class_frequency_current_month</th>\n",
       "    </tr>\n",
       "    <tr>\n",
       "      <th>churn</th>\n",
       "      <th></th>\n",
       "      <th></th>\n",
       "      <th></th>\n",
       "      <th></th>\n",
       "      <th></th>\n",
       "      <th></th>\n",
       "      <th></th>\n",
       "      <th></th>\n",
       "      <th></th>\n",
       "      <th></th>\n",
       "      <th></th>\n",
       "      <th></th>\n",
       "      <th></th>\n",
       "    </tr>\n",
       "  </thead>\n",
       "  <tbody>\n",
       "    <tr>\n",
       "      <th>0</th>\n",
       "      <td>0.510037</td>\n",
       "      <td>0.873086</td>\n",
       "      <td>0.534195</td>\n",
       "      <td>0.353522</td>\n",
       "      <td>0.903709</td>\n",
       "      <td>5.747193</td>\n",
       "      <td>0.464103</td>\n",
       "      <td>29.976523</td>\n",
       "      <td>158.445715</td>\n",
       "      <td>5.283089</td>\n",
       "      <td>4.711807</td>\n",
       "      <td>2.024876</td>\n",
       "      <td>2.027882</td>\n",
       "    </tr>\n",
       "    <tr>\n",
       "      <th>1</th>\n",
       "      <td>0.510839</td>\n",
       "      <td>0.768143</td>\n",
       "      <td>0.355325</td>\n",
       "      <td>0.183789</td>\n",
       "      <td>0.902922</td>\n",
       "      <td>1.728558</td>\n",
       "      <td>0.268615</td>\n",
       "      <td>26.989632</td>\n",
       "      <td>115.082899</td>\n",
       "      <td>1.662582</td>\n",
       "      <td>0.990575</td>\n",
       "      <td>1.474995</td>\n",
       "      <td>1.044546</td>\n",
       "    </tr>\n",
       "  </tbody>\n",
       "</table>\n",
       "</div>"
      ],
      "text/plain": [
       "         gender  near_location   partner  promo_friends     phone  \\\n",
       "churn                                                               \n",
       "0      0.510037       0.873086  0.534195       0.353522  0.903709   \n",
       "1      0.510839       0.768143  0.355325       0.183789  0.902922   \n",
       "\n",
       "       contract_period  group_visits        age  avg_additional_charges_total  \\\n",
       "churn                                                                           \n",
       "0             5.747193      0.464103  29.976523                    158.445715   \n",
       "1             1.728558      0.268615  26.989632                    115.082899   \n",
       "\n",
       "       month_to_end_contract  lifetime  avg_class_frequency_total  \\\n",
       "churn                                                               \n",
       "0                   5.283089  4.711807                   2.024876   \n",
       "1                   1.662582  0.990575                   1.474995   \n",
       "\n",
       "       avg_class_frequency_current_month  \n",
       "churn                                     \n",
       "0                               2.027882  \n",
       "1                               1.044546  "
      ]
     },
     "execution_count": 6,
     "metadata": {},
     "output_type": "execute_result"
    }
   ],
   "source": [
    "df.groupby('churn').mean()"
   ]
  },
  {
   "cell_type": "markdown",
   "metadata": {},
   "source": [
    "А также посмотрим на распределения признаков на гистограммах."
   ]
  },
  {
   "cell_type": "code",
   "execution_count": 7,
   "metadata": {
    "scrolled": false
   },
   "outputs": [
    {
     "data": {
      "image/png": "[encoded data removed]",
      "text/plain": [
       "<Figure size 864x360 with 1 Axes>"
      ]
     },
     "metadata": {
      "needs_background": "light"
     },
     "output_type": "display_data"
    },
    {
     "data": {
      "image/png": "[encoded data removed]",
      "text/plain": [
       "<Figure size 864x360 with 1 Axes>"
      ]
     },
     "metadata": {
      "needs_background": "light"
     },
     "output_type": "display_data"
    },
    {
     "data": {
      "image/png": "[encoded data removed]",
      "text/plain": [
       "<Figure size 864x360 with 1 Axes>"
      ]
     },
     "metadata": {
      "needs_background": "light"
     },
     "output_type": "display_data"
    },
    {
     "data": {
      "image/png": "[encoded data removed]",
      "text/plain": [
       "<Figure size 864x360 with 1 Axes>"
      ]
     },
     "metadata": {
      "needs_background": "light"
     },
     "output_type": "display_data"
    },
    {
     "data": {
      "image/png": "[encoded data removed]",
      "text/plain": [
       "<Figure size 864x360 with 1 Axes>"
      ]
     },
     "metadata": {
      "needs_background": "light"
     },
     "output_type": "display_data"
    },
    {
     "data": {
      "image/png": "[encoded data removed]",
      "text/plain": [
       "<Figure size 864x360 with 1 Axes>"
      ]
     },
     "metadata": {
      "needs_background": "light"
     },
     "output_type": "display_data"
    },
    {
     "data": {
      "image/png": "[encoded data removed]",
      "text/plain": [
       "<Figure size 864x360 with 1 Axes>"
      ]
     },
     "metadata": {
      "needs_background": "light"
     },
     "output_type": "display_data"
    },
    {
     "data": {
      "image/png": "[encoded data removed]",
      "text/plain": [
       "<Figure size 864x360 with 1 Axes>"
      ]
     },
     "metadata": {
      "needs_background": "light"
     },
     "output_type": "display_data"
    },
    {
     "data": {
      "image/png": "[encoded data removed]",
      "text/plain": [
       "<Figure size 864x360 with 1 Axes>"
      ]
     },
     "metadata": {
      "needs_background": "light"
     },
     "output_type": "display_data"
    },
    {
     "data": {
      "image/png": "[encoded data removed]",
      "text/plain": [
       "<Figure size 864x360 with 1 Axes>"
      ]
     },
     "metadata": {
      "needs_background": "light"
     },
     "output_type": "display_data"
    },
    {
     "data": {
      "image/png": "[encoded data removed]",
      "text/plain": [
       "<Figure size 864x360 with 1 Axes>"
      ]
     },
     "metadata": {
      "needs_background": "light"
     },
     "output_type": "display_data"
    },
    {
     "data": {
      "image/png": "[encoded data removed]",
      "text/plain": [
       "<Figure size 864x360 with 1 Axes>"
      ]
     },
     "metadata": {
      "needs_background": "light"
     },
     "output_type": "display_data"
    },
    {
     "data": {
      "image/png": "[encoded data removed]",
      "text/plain": [
       "<Figure size 864x360 with 1 Axes>"
      ]
     },
     "metadata": {
      "needs_background": "light"
     },
     "output_type": "display_data"
    },
    {
     "data": {
      "image/png": "[encoded data removed]",
      "text/plain": [
       "<Figure size 864x360 with 1 Axes>"
      ]
     },
     "metadata": {
      "needs_background": "light"
     },
     "output_type": "display_data"
    }
   ],
   "source": [
    "for i in df.columns:\n",
    "    f, ax = plt.subplots(figsize=(12,5))\n",
    "    sns.histplot(data=df, x=i, hue='churn', element=\"step\", palette='colorblind')"
   ]
  },
  {
   "cell_type": "markdown",
   "metadata": {},
   "source": [
    "**Вывод**  \n",
    "О тех, кто ушел в отток, можно сказать, что они: \n",
    "- живут чуть подальше, \n",
    "- пришли в основном не по промо-коду, \n",
    "- ходят по месячному абонементу, \n",
    "- реже посещают групповые занятия, \n",
    "- в среденем, чуть моложе, \n",
    "- чуть меньше тратят дополнительно, \n",
    "- появились в клубе недавно, \n",
    "- в целом реже ходят в клуб, в последний месяц около одного раза в неделю - по сравнению с 2 днями в неделю для не ушедших в отток."
   ]
  },
  {
   "cell_type": "markdown",
   "metadata": {},
   "source": [
    "<div class=\"alert alert-success\">\n",
    "✔️ Отлично, уже вырисовывается портрет ненадежного клиента"
   ]
  },
  {
   "cell_type": "markdown",
   "metadata": {},
   "source": [
    "Построим матрицу корреляций."
   ]
  },
  {
   "cell_type": "code",
   "execution_count": 8,
   "metadata": {},
   "outputs": [
    {
     "data": {
      "image/png": "[encoded data removed]",
      "text/plain": [
       "<Figure size 864x864 with 2 Axes>"
      ]
     },
     "metadata": {
      "needs_background": "light"
     },
     "output_type": "display_data"
    }
   ],
   "source": [
    "cm = df.corr()\n",
    "f, ax = plt.subplots(figsize=(12, 12))\n",
    "sns.heatmap(cm, annot = True, square=True)\n",
    "plt.show()"
   ]
  },
  {
   "cell_type": "markdown",
   "metadata": {},
   "source": [
    "**Вывод**  \n",
    "Длительность абонемента ожидаемо коррелируется с остатком месяцев на абонементе. Средняя и последняя посещаемость так же ожидаемо зависимы. Наблюдается некая корреляция между акцией \"Приведи друга\" и компаниями-партнерами, наверное, коллеги звали коллег. Первые две пары столбцов можно будет рассмотреть в качестве кандидатов на удаление, чтобы избежать коллинеарности."
   ]
  },
  {
   "cell_type": "markdown",
   "metadata": {},
   "source": [
    "<div class=\"alert alert-success\">\n",
    "✔️❌ Верно замечено, но их и правда нужно удалить)"
   ]
  },
  {
   "cell_type": "markdown",
   "metadata": {},
   "source": [
    "<p class=\"text-danger\">\n",
    "Спасибо, удалил один из каждой пары при построении моделей. Подскажи, плиз, почему дерево разделилось на 5 частей только в одном из множества запусков? Пробовал по нескольку раз и полный датасет, и удалять по одному из пары коллинеарных, потом другие столбцы из пары,  и оба.. Чаще получается 4 кластера на дендрограмме.\n",
    "</p>\n",
    "\n",
    "---"
   ]
  },
  {
   "cell_type": "markdown",
   "metadata": {},
   "source": [
    "<div class=\"alert alert-success\">\n",
    "<b>Комментарий ревьюера v2</b>    <br>\n",
    "✔️ Исправлено <br>\n",
    "   Если я верно поняла, то такой же вопрос ниже. Отвечаю на него там)"
   ]
  },
  {
   "cell_type": "markdown",
   "metadata": {},
   "source": [
    "# Модель прогнозирования оттока\n",
    "<a id='step5'></a>\n",
    "Для начала разделим наши данные на признаки (матрица X) и целевую переменную (y),"
   ]
  },
  {
   "cell_type": "code",
   "execution_count": 9,
   "metadata": {},
   "outputs": [],
   "source": [
    "X = df.drop(columns=['churn', 'month_to_end_contract', 'avg_class_frequency_current_month'])\n",
    "y = df['churn']"
   ]
  },
  {
   "cell_type": "markdown",
   "metadata": {},
   "source": [
    "и потом разделим их на обучающую и валидационную выборку."
   ]
  },
  {
   "cell_type": "code",
   "execution_count": 10,
   "metadata": {},
   "outputs": [],
   "source": [
    "X_train, X_test, y_train, y_test = train_test_split(X, y, test_size=0.2, random_state=0)"
   ]
  },
  {
   "cell_type": "markdown",
   "metadata": {},
   "source": [
    "Создадим объект класса StandardScaler и применим его к обучающей выборке, обучаем scaler и одновременно трансформируем матрицу для обучающей выборки."
   ]
  },
  {
   "cell_type": "code",
   "execution_count": 11,
   "metadata": {},
   "outputs": [],
   "source": [
    "scaler = StandardScaler()\n",
    "X_train_st = scaler.fit_transform(X_train)"
   ]
  },
  {
   "cell_type": "markdown",
   "metadata": {},
   "source": [
    "Применяем стандартизацию к матрице признаков для тестовой выборки."
   ]
  },
  {
   "cell_type": "code",
   "execution_count": 12,
   "metadata": {},
   "outputs": [],
   "source": [
    "X_test_st = scaler.transform(X_test)"
   ]
  },
  {
   "cell_type": "markdown",
   "metadata": {},
   "source": [
    "<div class=\"alert alert-success\">\n",
    "✔️ Сделано верно"
   ]
  },
  {
   "cell_type": "markdown",
   "metadata": {},
   "source": [
    "Сравним работу моделей случайного леса и логистической регрессии на наших данных."
   ]
  },
  {
   "cell_type": "code",
   "execution_count": 13,
   "metadata": {},
   "outputs": [],
   "source": [
    "#задаем список моделей\n",
    "models = [RandomForestClassifier(random_state=0), LogisticRegression(solver='liblinear', random_state=0)]\n",
    "\n",
    "\n",
    "#функция, которая принимает на вход модель и данные и выводит метрики\n",
    "def make_prediction(m, X_train, y_train, X_test, y_test):\n",
    "    model = m\n",
    "    model.fit(X_train, y_train)\n",
    "    y_pred = model.predict(X_test)\n",
    "    print(\n",
    "        'Accuracy:{:.2f}, Precision:{:.2f}, Recall:{:.2f}, F1:{:.2f}'.format(\n",
    "            skmt.accuracy_score(y_test, y_pred),\n",
    "            skmt.precision_score(y_test, y_pred),\n",
    "            skmt.recall_score(y_test, y_pred),\n",
    "            skmt.f1_score(y_test, y_pred),\n",
    "        )\n",
    "    )\n"
   ]
  },
  {
   "cell_type": "markdown",
   "metadata": {},
   "source": [
    "<div class=\"alert alert-success\">\n",
    "✔️ 👍"
   ]
  },
  {
   "cell_type": "markdown",
   "metadata": {},
   "source": [
    "Напишем цикл, который выводит метрики по списку моделей."
   ]
  },
  {
   "cell_type": "code",
   "execution_count": 14,
   "metadata": {
    "scrolled": true
   },
   "outputs": [
    {
     "name": "stdout",
     "output_type": "stream",
     "text": [
      "RandomForestClassifier(random_state=0)\n",
      "Accuracy:0.89, Precision:0.78, Recall:0.77, F1:0.78\n",
      "\n",
      "LogisticRegression(random_state=0, solver='liblinear')\n",
      "Accuracy:0.88, Precision:0.76, Recall:0.77, F1:0.77\n",
      "\n"
     ]
    }
   ],
   "source": [
    "for i in models:\n",
    "    print(i)\n",
    "    make_prediction(i, X_train, y_train, X_test, y_test)\n",
    "    print()"
   ]
  },
  {
   "cell_type": "markdown",
   "metadata": {},
   "source": [
    "RandomForestClassifier(random_state=0)\n",
    "Accuracy:0.89, Precision:0.78, Recall:0.77, F1:0.78\n",
    "\n",
    "LogisticRegression(random_state=0, solver='liblinear')\n",
    "Accuracy:0.88, Precision:0.76, Recall:0.77, F1:0.77"
   ]
  },
  {
   "cell_type": "markdown",
   "metadata": {},
   "source": [
    "**Вывод**  \n",
    "Алгоритм случайного леса отработал лучше. Его можно будет использовать для прогнозирования оттока будущих клиентов."
   ]
  },
  {
   "cell_type": "markdown",
   "metadata": {},
   "source": [
    "<div class=\"alert alert-success\">\n",
    "✔️ Да, верно"
   ]
  },
  {
   "cell_type": "markdown",
   "metadata": {},
   "source": [
    "<p class=\"text-danger\">\n",
    "Метрики меняются при каждом запуске. Подскажи, плиз, почему не работает рандомстейт?\n",
    "</p>\n",
    "\n",
    "---"
   ]
  },
  {
   "cell_type": "markdown",
   "metadata": {},
   "source": [
    "<div class=\"alert alert-info\">\n",
    "<b>Комментарий ревьюера v2</b>    <br>\n",
    "Я перезапускала сейчас 3 раза блокнот и все остается таким же)"
   ]
  },
  {
   "cell_type": "markdown",
   "metadata": {},
   "source": [
    "# Кластеризация посетителей\n",
    "<a id='step6'></a> \n",
    "Для начала стандартизируем данные перед работой с алгоритмами кластеризации."
   ]
  },
  {
   "cell_type": "code",
   "execution_count": 15,
   "metadata": {},
   "outputs": [],
   "source": [
    "sc = StandardScaler()\n",
    "X_sc = sc.fit_transform(df)"
   ]
  },
  {
   "cell_type": "markdown",
   "metadata": {},
   "source": [
    "Создадим матрицу растояний."
   ]
  },
  {
   "cell_type": "code",
   "execution_count": 16,
   "metadata": {},
   "outputs": [],
   "source": [
    "linked = linkage(X_sc, method = 'ward')"
   ]
  },
  {
   "cell_type": "markdown",
   "metadata": {},
   "source": [
    "Нарисуем дендрограмму по полученным расчетам."
   ]
  },
  {
   "cell_type": "code",
   "execution_count": 17,
   "metadata": {},
   "outputs": [
    {
     "data": {
      "image/png": "[encoded data removed]",
      "text/plain": [
       "<Figure size 1080x720 with 1 Axes>"
      ]
     },
     "metadata": {
      "needs_background": "light"
     },
     "output_type": "display_data"
    }
   ],
   "source": [
    "plt.figure(figsize=(15, 10))\n",
    "dendrogram(linked, orientation='top')\n",
    "plt.title('Hierarchial clustering for GYM')\n",
    "plt.show()"
   ]
  },
  {
   "cell_type": "markdown",
   "metadata": {},
   "source": [
    "---\n",
    "<p class=\"text-danger\">\n",
    "Не понимаю, где элемент рандома, который влияет на дендрограмму, и как его отключить? Чаще 4, иногда 5 кластеров на дендрограмме.\n",
    "</p>\n",
    "\n",
    "---"
   ]
  },
  {
   "cell_type": "markdown",
   "metadata": {},
   "source": [
    "<div class=\"alert alert-info\">\n",
    "<b>Комментарий ревьюера v2</b>    <br>\n",
    "Если ты говоришь о перазпуске блокнота тоже, то как и с метриками я проверяла и разбиение и все разы у меня 5 штук) А если не перезапуск, то конечно разные данные будет по разному разбиваться"
   ]
  },
  {
   "cell_type": "markdown",
   "metadata": {},
   "source": [
    "Разобьем посетителей на 5 кластеров с помощью алгоритма К-Средних."
   ]
  },
  {
   "cell_type": "markdown",
   "metadata": {},
   "source": [
    "<div class=\"alert alert-success\">\n",
    "✔️ 👍"
   ]
  },
  {
   "cell_type": "code",
   "execution_count": 18,
   "metadata": {},
   "outputs": [],
   "source": [
    "km = KMeans(n_clusters = 5, random_state=0)\n",
    "labels = km.fit_predict(X_sc)"
   ]
  },
  {
   "cell_type": "markdown",
   "metadata": {},
   "source": [
    "Запишем в наш датафрейм полученную информацию о кластерах."
   ]
  },
  {
   "cell_type": "code",
   "execution_count": 19,
   "metadata": {},
   "outputs": [],
   "source": [
    "df['cluster'] = labels"
   ]
  },
  {
   "cell_type": "markdown",
   "metadata": {},
   "source": [
    "И посмотрим на средние значения признаков по кластерам."
   ]
  },
  {
   "cell_type": "code",
   "execution_count": 20,
   "metadata": {
    "scrolled": true
   },
   "outputs": [
    {
     "data": {
      "text/html": [
       "<div>\n",
       "<style scoped>\n",
       "    .dataframe tbody tr th:only-of-type {\n",
       "        vertical-align: middle;\n",
       "    }\n",
       "\n",
       "    .dataframe tbody tr th {\n",
       "        vertical-align: top;\n",
       "    }\n",
       "\n",
       "    .dataframe thead th {\n",
       "        text-align: right;\n",
       "    }\n",
       "</style>\n",
       "<table border=\"1\" class=\"dataframe\">\n",
       "  <thead>\n",
       "    <tr style=\"text-align: right;\">\n",
       "      <th></th>\n",
       "      <th>gender</th>\n",
       "      <th>near_location</th>\n",
       "      <th>partner</th>\n",
       "      <th>promo_friends</th>\n",
       "      <th>phone</th>\n",
       "      <th>contract_period</th>\n",
       "      <th>group_visits</th>\n",
       "      <th>age</th>\n",
       "      <th>avg_additional_charges_total</th>\n",
       "      <th>month_to_end_contract</th>\n",
       "      <th>lifetime</th>\n",
       "      <th>avg_class_frequency_total</th>\n",
       "      <th>avg_class_frequency_current_month</th>\n",
       "      <th>churn</th>\n",
       "    </tr>\n",
       "    <tr>\n",
       "      <th>cluster</th>\n",
       "      <th></th>\n",
       "      <th></th>\n",
       "      <th></th>\n",
       "      <th></th>\n",
       "      <th></th>\n",
       "      <th></th>\n",
       "      <th></th>\n",
       "      <th></th>\n",
       "      <th></th>\n",
       "      <th></th>\n",
       "      <th></th>\n",
       "      <th></th>\n",
       "      <th></th>\n",
       "      <th></th>\n",
       "    </tr>\n",
       "  </thead>\n",
       "  <tbody>\n",
       "    <tr>\n",
       "      <th>0</th>\n",
       "      <td>0.503676</td>\n",
       "      <td>0.000000</td>\n",
       "      <td>0.459559</td>\n",
       "      <td>0.075368</td>\n",
       "      <td>0.917279</td>\n",
       "      <td>2.069853</td>\n",
       "      <td>0.211397</td>\n",
       "      <td>28.522059</td>\n",
       "      <td>132.741216</td>\n",
       "      <td>1.950368</td>\n",
       "      <td>2.757353</td>\n",
       "      <td>1.706629</td>\n",
       "      <td>1.515890</td>\n",
       "      <td>0.450368</td>\n",
       "    </tr>\n",
       "    <tr>\n",
       "      <th>1</th>\n",
       "      <td>0.492829</td>\n",
       "      <td>0.936115</td>\n",
       "      <td>0.764016</td>\n",
       "      <td>0.534550</td>\n",
       "      <td>0.919166</td>\n",
       "      <td>10.447197</td>\n",
       "      <td>0.516297</td>\n",
       "      <td>29.962190</td>\n",
       "      <td>161.853561</td>\n",
       "      <td>9.477184</td>\n",
       "      <td>4.833116</td>\n",
       "      <td>2.788103</td>\n",
       "      <td>2.786919</td>\n",
       "      <td>0.007823</td>\n",
       "    </tr>\n",
       "    <tr>\n",
       "      <th>2</th>\n",
       "      <td>0.507917</td>\n",
       "      <td>1.000000</td>\n",
       "      <td>0.323995</td>\n",
       "      <td>0.213155</td>\n",
       "      <td>0.903776</td>\n",
       "      <td>1.546894</td>\n",
       "      <td>0.287454</td>\n",
       "      <td>26.926918</td>\n",
       "      <td>113.173051</td>\n",
       "      <td>1.500609</td>\n",
       "      <td>1.031669</td>\n",
       "      <td>1.449720</td>\n",
       "      <td>1.037592</td>\n",
       "      <td>0.961023</td>\n",
       "    </tr>\n",
       "    <tr>\n",
       "      <th>3</th>\n",
       "      <td>0.521186</td>\n",
       "      <td>0.996610</td>\n",
       "      <td>0.282203</td>\n",
       "      <td>0.208475</td>\n",
       "      <td>0.904237</td>\n",
       "      <td>1.882203</td>\n",
       "      <td>0.452542</td>\n",
       "      <td>30.237288</td>\n",
       "      <td>157.988625</td>\n",
       "      <td>1.794915</td>\n",
       "      <td>4.923729</td>\n",
       "      <td>2.203432</td>\n",
       "      <td>2.207359</td>\n",
       "      <td>0.003390</td>\n",
       "    </tr>\n",
       "    <tr>\n",
       "      <th>4</th>\n",
       "      <td>0.518895</td>\n",
       "      <td>0.968023</td>\n",
       "      <td>0.744186</td>\n",
       "      <td>0.526163</td>\n",
       "      <td>0.873547</td>\n",
       "      <td>8.859012</td>\n",
       "      <td>0.534884</td>\n",
       "      <td>29.728198</td>\n",
       "      <td>162.907495</td>\n",
       "      <td>8.155523</td>\n",
       "      <td>4.411337</td>\n",
       "      <td>0.957744</td>\n",
       "      <td>0.943967</td>\n",
       "      <td>0.024709</td>\n",
       "    </tr>\n",
       "  </tbody>\n",
       "</table>\n",
       "</div>"
      ],
      "text/plain": [
       "           gender  near_location   partner  promo_friends     phone  \\\n",
       "cluster                                                               \n",
       "0        0.503676       0.000000  0.459559       0.075368  0.917279   \n",
       "1        0.492829       0.936115  0.764016       0.534550  0.919166   \n",
       "2        0.507917       1.000000  0.323995       0.213155  0.903776   \n",
       "3        0.521186       0.996610  0.282203       0.208475  0.904237   \n",
       "4        0.518895       0.968023  0.744186       0.526163  0.873547   \n",
       "\n",
       "         contract_period  group_visits        age  \\\n",
       "cluster                                             \n",
       "0               2.069853      0.211397  28.522059   \n",
       "1              10.447197      0.516297  29.962190   \n",
       "2               1.546894      0.287454  26.926918   \n",
       "3               1.882203      0.452542  30.237288   \n",
       "4               8.859012      0.534884  29.728198   \n",
       "\n",
       "         avg_additional_charges_total  month_to_end_contract  lifetime  \\\n",
       "cluster                                                                  \n",
       "0                          132.741216               1.950368  2.757353   \n",
       "1                          161.853561               9.477184  4.833116   \n",
       "2                          113.173051               1.500609  1.031669   \n",
       "3                          157.988625               1.794915  4.923729   \n",
       "4                          162.907495               8.155523  4.411337   \n",
       "\n",
       "         avg_class_frequency_total  avg_class_frequency_current_month  \\\n",
       "cluster                                                                 \n",
       "0                         1.706629                           1.515890   \n",
       "1                         2.788103                           2.786919   \n",
       "2                         1.449720                           1.037592   \n",
       "3                         2.203432                           2.207359   \n",
       "4                         0.957744                           0.943967   \n",
       "\n",
       "            churn  \n",
       "cluster            \n",
       "0        0.450368  \n",
       "1        0.007823  \n",
       "2        0.961023  \n",
       "3        0.003390  \n",
       "4        0.024709  "
      ]
     },
     "execution_count": 20,
     "metadata": {},
     "output_type": "execute_result"
    }
   ],
   "source": [
    "df.groupby('cluster').mean()"
   ]
  },
  {
   "cell_type": "markdown",
   "metadata": {},
   "source": [
    "Посмотрим на отток по кластерам в процентном сортированном виде."
   ]
  },
  {
   "cell_type": "code",
   "execution_count": 21,
   "metadata": {},
   "outputs": [
    {
     "data": {
      "text/plain": [
       "cluster\n",
       "2    96.1%\n",
       "0    45.0%\n",
       "4     2.5%\n",
       "1     0.8%\n",
       "3     0.3%\n",
       "Name: churn, dtype: object"
      ]
     },
     "execution_count": 21,
     "metadata": {},
     "output_type": "execute_result"
    }
   ],
   "source": [
    "churn_perc = (df.groupby('cluster')['churn'].sum() / df.groupby('cluster')['churn'].count()).sort_values(ascending=False)\n",
    "churn_perc.apply(lambda x: f\"{x:.1%}\")"
   ]
  },
  {
   "cell_type": "markdown",
   "metadata": {},
   "source": [
    "Кластер под индексом 4 имеет почти стопроцентный отток. Попробуем посмотреть на гистограммы распределений признаков по кластерам."
   ]
  },
  {
   "cell_type": "code",
   "execution_count": 22,
   "metadata": {
    "scrolled": false
   },
   "outputs": [
    {
     "data": {
      "image/png": "[encoded data removed]",
      "text/plain": [
       "<Figure size 864x360 with 1 Axes>"
      ]
     },
     "metadata": {
      "needs_background": "light"
     },
     "output_type": "display_data"
    },
    {
     "data": {
      "image/png": "[encoded data removed]",
      "text/plain": [
       "<Figure size 864x360 with 1 Axes>"
      ]
     },
     "metadata": {
      "needs_background": "light"
     },
     "output_type": "display_data"
    },
    {
     "data": {
      "image/png": "[encoded data removed]",
      "text/plain": [
       "<Figure size 864x360 with 1 Axes>"
      ]
     },
     "metadata": {
      "needs_background": "light"
     },
     "output_type": "display_data"
    },
    {
     "data": {
      "image/png": "[encoded data removed]",
      "text/plain": [
       "<Figure size 864x360 with 1 Axes>"
      ]
     },
     "metadata": {
      "needs_background": "light"
     },
     "output_type": "display_data"
    },
    {
     "data": {
      "image/png": "[encoded data removed]",
      "text/plain": [
       "<Figure size 864x360 with 1 Axes>"
      ]
     },
     "metadata": {
      "needs_background": "light"
     },
     "output_type": "display_data"
    },
    {
     "data": {
      "image/png": "[encoded data removed]",
      "text/plain": [
       "<Figure size 864x360 with 1 Axes>"
      ]
     },
     "metadata": {
      "needs_background": "light"
     },
     "output_type": "display_data"
    },
    {
     "data": {
      "image/png": "[encoded data removed]",
      "text/plain": [
       "<Figure size 864x360 with 1 Axes>"
      ]
     },
     "metadata": {
      "needs_background": "light"
     },
     "output_type": "display_data"
    },
    {
     "data": {
      "image/png": "[encoded data removed]",
      "text/plain": [
       "<Figure size 864x360 with 1 Axes>"
      ]
     },
     "metadata": {
      "needs_background": "light"
     },
     "output_type": "display_data"
    },
    {
     "data": {
      "image/png": "[encoded data removed]",
      "text/plain": [
       "<Figure size 864x360 with 1 Axes>"
      ]
     },
     "metadata": {
      "needs_background": "light"
     },
     "output_type": "display_data"
    },
    {
     "data": {
      "image/png": "[encoded data removed]",
      "text/plain": [
       "<Figure size 864x360 with 1 Axes>"
      ]
     },
     "metadata": {
      "needs_background": "light"
     },
     "output_type": "display_data"
    },
    {
     "data": {
      "image/png": "[encoded data removed]",
      "text/plain": [
       "<Figure size 864x360 with 1 Axes>"
      ]
     },
     "metadata": {
      "needs_background": "light"
     },
     "output_type": "display_data"
    },
    {
     "data": {
      "image/png": "[encoded data removed]",
      "text/plain": [
       "<Figure size 864x360 with 1 Axes>"
      ]
     },
     "metadata": {
      "needs_background": "light"
     },
     "output_type": "display_data"
    },
    {
     "data": {
      "image/png": "[encoded data removed]",
      "text/plain": [
       "<Figure size 864x360 with 1 Axes>"
      ]
     },
     "metadata": {
      "needs_background": "light"
     },
     "output_type": "display_data"
    },
    {
     "data": {
      "image/png": "[encoded data removed]",
      "text/plain": [
       "<Figure size 864x360 with 1 Axes>"
      ]
     },
     "metadata": {
      "needs_background": "light"
     },
     "output_type": "display_data"
    },
    {
     "data": {
      "image/png": "[encoded data removed]",
      "text/plain": [
       "<Figure size 864x360 with 1 Axes>"
      ]
     },
     "metadata": {
      "needs_background": "light"
     },
     "output_type": "display_data"
    }
   ],
   "source": [
    "for i in df.columns:\n",
    "    f, ax = plt.subplots(figsize=(12,5))\n",
    "    sns.histplot(data=df, x=i, hue='cluster', element=\"step\", palette='colorblind')"
   ]
  },
  {
   "cell_type": "markdown",
   "metadata": {},
   "source": [
    "**Вывод**  \n",
    "Алгоритм при разбиении на 5 кластеров отработал хорошо, выделив кластер с полным оттоком. Кто эти люди? Можно сказать, что они:\n",
    "- самые молодые по возрасту из всех кластеров,\n",
    "- появились в клубе недавно, не более 2 месяцев назад,\n",
    "- приобрели месячный абонемент,\n",
    "- проживают или работают недалеко от клуба,\n",
    "- неохотно посещают групповые занятия, и вообще довольно редко ходят в зал, особенно в последний месяц,\n",
    "- таких людей около 800, то есть 20% от всех посетителей."
   ]
  },
  {
   "cell_type": "markdown",
   "metadata": {},
   "source": [
    "# Общие выводы\n",
    "<a id='step7'></a>\n",
    "В рамках проекта удалось выбрать по метрикам алгоритм для модели прогнозирования оттока - алгоритм случайного леса. \n",
    "Получилось разбить клиентов на 5 информативных кластеров, изучить их признаки и описать портрет клиента, уходившего в отток в последний месяц - это молодежь, впервые появившаяся около месяца назад и купившая месячный абонемент."
   ]
  },
  {
   "cell_type": "markdown",
   "metadata": {},
   "source": [
    "# Рекомендации\n",
    "<a id='step8'></a>\n",
    "Рекомендуем поработать над удержанием клиентов из кластера 2. Все они появились недавно, это может быть связано с какой-то маркетинговой кампанией. Надо это проверить, узнать, что в кампании сподвигло их купить абонемент. Может они этого не получают и поэтому уходят. Почти у всех клиентов записан телефон. Рекомендуем сделать стандартную SMS рассылку клиентам из этой группы. Поскольку они молодые, и соответственно, менее обеспеченные, предложить им скидку на полугодовой абонемент, там отток гораздо ниже. Или попробовать ввести 3-месячные абонементы. В коммуникациях рекомендуем использовать молодежный стиль общения. Так как они живут или работают недалеко - рекомендуем также использовать имеющиеся \"на районе\" маркетинговые каналы, например, билборды. Можно также попробовать привлечь их на интересные для молодежи групповые занятия, так как этот признак, похоже, повышает лояльность и снижает отток."
   ]
  },
  {
   "cell_type": "markdown",
   "metadata": {},
   "source": [
    "<div class=\"alert alert-success\">\n",
    "✔️❌ Кажется проект не доработан немного) "
   ]
  },
  {
   "cell_type": "markdown",
   "metadata": {},
   "source": [
    "<p class=\"text-danger\">\n",
    "- Вроде все исправил, спасибо!\n",
    "</p>\n",
    "\n",
    "---"
   ]
  },
  {
   "cell_type": "markdown",
   "metadata": {},
   "source": [
    "<div class=\"alert alert-success\">\n",
    "✔️ Отлично! У нас есть портрет клиента, склонного к уходу и рекомендации тоже даны важные. Теперь у коллег-маркетологов будет много данных для работы)"
   ]
  },
  {
   "cell_type": "markdown",
   "metadata": {},
   "source": [
    "<div class=\"alert alert-info\"> <p2>\n",
    "Работа в целом хорошая! Я вижу, что ты разбираешься в теме. Ты показываешь хорошее владение всем изучаемым в модуле материалом. Осталась одна небольшая доработка:\n",
    "\n",
    "1. Дописать вывода по кластерам, общий вывор по проекту и сделать рекомендации\n",
    "    \n",
    "Буду ждать работу :)\n",
    "</p2>\n",
    "</div>"
   ]
  },
  {
   "cell_type": "markdown",
   "metadata": {},
   "source": [
    "[В начало](#step1)"
   ]
  }
 ],
 "metadata": {
  "ExecuteTimeLog": [
   {
    "duration": 2181,
    "start_time": "2022-05-12T09:52:26.503Z"
   },
   {
    "duration": 29,
    "start_time": "2022-05-12T09:57:47.788Z"
   },
   {
    "duration": 32,
    "start_time": "2022-05-12T09:58:27.369Z"
   },
   {
    "duration": 38,
    "start_time": "2022-05-12T09:58:45.770Z"
   },
   {
    "duration": 120,
    "start_time": "2022-05-12T10:15:05.368Z"
   },
   {
    "duration": 4,
    "start_time": "2022-05-12T10:15:11.442Z"
   },
   {
    "duration": 5,
    "start_time": "2022-05-12T10:15:16.062Z"
   },
   {
    "duration": 8,
    "start_time": "2022-05-12T10:15:20.380Z"
   },
   {
    "duration": 171,
    "start_time": "2022-05-12T10:15:23.932Z"
   },
   {
    "duration": 4,
    "start_time": "2022-05-12T10:15:30.953Z"
   },
   {
    "duration": 727,
    "start_time": "2022-05-12T10:16:50.371Z"
   },
   {
    "duration": 9,
    "start_time": "2022-05-12T10:17:54.502Z"
   },
   {
    "duration": 4,
    "start_time": "2022-05-12T10:20:20.210Z"
   },
   {
    "duration": 5,
    "start_time": "2022-05-12T10:20:44.378Z"
   },
   {
    "duration": 3328,
    "start_time": "2022-05-12T10:21:04.744Z"
   },
   {
    "duration": 5,
    "start_time": "2022-05-12T10:25:24.553Z"
   },
   {
    "duration": 8,
    "start_time": "2022-05-12T10:25:35.764Z"
   },
   {
    "duration": 5,
    "start_time": "2022-05-12T10:25:37.513Z"
   },
   {
    "duration": 15,
    "start_time": "2022-05-12T10:26:55.449Z"
   },
   {
    "duration": 5,
    "start_time": "2022-05-12T10:27:11.331Z"
   },
   {
    "duration": 765,
    "start_time": "2022-05-12T10:27:14.013Z"
   },
   {
    "duration": 4,
    "start_time": "2022-05-12T11:12:55.526Z"
   },
   {
    "duration": 50,
    "start_time": "2022-05-12T11:12:57.629Z"
   },
   {
    "duration": 47,
    "start_time": "2022-05-12T11:13:01.288Z"
   },
   {
    "duration": 77,
    "start_time": "2022-05-12T11:14:41.068Z"
   },
   {
    "duration": 70,
    "start_time": "2022-05-12T11:15:01.469Z"
   },
   {
    "duration": 116,
    "start_time": "2022-05-12T11:15:53.989Z"
   },
   {
    "duration": 16,
    "start_time": "2022-05-12T11:16:15.681Z"
   },
   {
    "duration": 5,
    "start_time": "2022-05-12T11:16:35.528Z"
   },
   {
    "duration": 5,
    "start_time": "2022-05-12T11:16:44.008Z"
   },
   {
    "duration": 3,
    "start_time": "2022-05-12T11:16:53.649Z"
   },
   {
    "duration": 17,
    "start_time": "2022-05-12T11:17:04.899Z"
   },
   {
    "duration": 1127,
    "start_time": "2022-05-12T11:18:32.281Z"
   },
   {
    "duration": 1971,
    "start_time": "2022-05-12T11:19:08.928Z"
   },
   {
    "duration": 9871,
    "start_time": "2022-05-12T11:25:13.592Z"
   },
   {
    "duration": 10,
    "start_time": "2022-05-12T11:26:03.619Z"
   },
   {
    "duration": 20,
    "start_time": "2022-05-12T11:26:09.239Z"
   },
   {
    "duration": 3,
    "start_time": "2022-05-12T11:31:13.427Z"
   },
   {
    "duration": 4,
    "start_time": "2022-05-12T11:31:20.789Z"
   },
   {
    "duration": 5,
    "start_time": "2022-05-12T11:31:22.198Z"
   },
   {
    "duration": 7,
    "start_time": "2022-05-12T11:31:29.628Z"
   },
   {
    "duration": 5,
    "start_time": "2022-05-12T11:31:30.819Z"
   },
   {
    "duration": 4,
    "start_time": "2022-05-12T11:31:47.389Z"
   },
   {
    "duration": 750,
    "start_time": "2022-05-12T11:31:50.208Z"
   },
   {
    "duration": 3,
    "start_time": "2022-05-12T11:32:41.486Z"
   },
   {
    "duration": 4,
    "start_time": "2022-05-12T11:32:50.125Z"
   },
   {
    "duration": 1076,
    "start_time": "2022-05-12T11:32:51.099Z"
   },
   {
    "duration": 4,
    "start_time": "2022-05-12T11:36:57.697Z"
   },
   {
    "duration": 764,
    "start_time": "2022-05-12T11:36:59.579Z"
   },
   {
    "duration": 3,
    "start_time": "2022-05-12T11:37:17.855Z"
   },
   {
    "duration": 744,
    "start_time": "2022-05-12T11:37:18.826Z"
   },
   {
    "duration": 4,
    "start_time": "2022-05-12T11:38:02.076Z"
   },
   {
    "duration": 39,
    "start_time": "2022-05-12T11:38:04.037Z"
   },
   {
    "duration": 11,
    "start_time": "2022-05-12T11:40:35.238Z"
   },
   {
    "duration": 18,
    "start_time": "2022-05-12T11:40:53.567Z"
   },
   {
    "duration": 4,
    "start_time": "2022-05-12T11:41:27.968Z"
   },
   {
    "duration": 5,
    "start_time": "2022-05-12T11:41:32.157Z"
   },
   {
    "duration": 379,
    "start_time": "2022-05-12T11:41:41.815Z"
   },
   {
    "duration": 4,
    "start_time": "2022-05-12T11:41:59.207Z"
   },
   {
    "duration": 406,
    "start_time": "2022-05-12T11:42:01.189Z"
   },
   {
    "duration": 6,
    "start_time": "2022-05-12T11:43:46.756Z"
   },
   {
    "duration": 1968,
    "start_time": "2022-05-12T11:43:52.506Z"
   },
   {
    "duration": 4,
    "start_time": "2022-05-12T11:44:04.426Z"
   },
   {
    "duration": 420,
    "start_time": "2022-05-12T11:44:05.748Z"
   },
   {
    "duration": 5,
    "start_time": "2022-05-12T11:44:50.016Z"
   },
   {
    "duration": 444,
    "start_time": "2022-05-12T11:44:50.023Z"
   },
   {
    "duration": 1368,
    "start_time": "2022-05-12T11:46:32.988Z"
   },
   {
    "duration": 3,
    "start_time": "2022-05-12T11:48:45.848Z"
   },
   {
    "duration": 337,
    "start_time": "2022-05-12T11:49:55.242Z"
   },
   {
    "duration": 80329,
    "start_time": "2022-05-12T11:50:12.698Z"
   },
   {
    "duration": 3,
    "start_time": "2022-05-12T11:54:00.359Z"
   },
   {
    "duration": 4,
    "start_time": "2022-05-12T11:55:27.379Z"
   },
   {
    "duration": 514,
    "start_time": "2022-05-12T11:56:14.359Z"
   },
   {
    "duration": 57056,
    "start_time": "2022-05-12T11:56:19.099Z"
   },
   {
    "duration": 0,
    "start_time": "2022-05-12T11:57:16.157Z"
   },
   {
    "duration": 9,
    "start_time": "2022-05-12T11:57:18.850Z"
   },
   {
    "duration": 505,
    "start_time": "2022-05-12T11:57:19.691Z"
   },
   {
    "duration": 104533,
    "start_time": "2022-05-12T11:57:21.149Z"
   },
   {
    "duration": 3,
    "start_time": "2022-05-12T11:59:05.684Z"
   },
   {
    "duration": 15,
    "start_time": "2022-05-12T11:59:05.689Z"
   },
   {
    "duration": 238,
    "start_time": "2022-05-12T11:59:54.784Z"
   },
   {
    "duration": 4,
    "start_time": "2022-05-12T12:00:02.136Z"
   },
   {
    "duration": 8,
    "start_time": "2022-05-12T12:00:05.882Z"
   },
   {
    "duration": 524,
    "start_time": "2022-05-12T12:00:07.498Z"
   },
   {
    "duration": 102127,
    "start_time": "2022-05-12T12:00:08.024Z"
   },
   {
    "duration": 14,
    "start_time": "2022-05-12T12:01:50.153Z"
   },
   {
    "duration": 1311,
    "start_time": "2022-05-12T12:01:50.169Z"
   },
   {
    "duration": 3,
    "start_time": "2022-05-12T12:04:38.603Z"
   },
   {
    "duration": 6,
    "start_time": "2022-05-12T12:04:47.210Z"
   },
   {
    "duration": 1355,
    "start_time": "2022-05-12T12:07:13.911Z"
   },
   {
    "duration": 4,
    "start_time": "2022-05-12T12:07:16.084Z"
   },
   {
    "duration": 26,
    "start_time": "2022-05-12T12:08:16.232Z"
   },
   {
    "duration": 13,
    "start_time": "2022-05-12T12:08:26.984Z"
   },
   {
    "duration": 4,
    "start_time": "2022-05-12T12:08:57.243Z"
   },
   {
    "duration": 4,
    "start_time": "2022-05-12T12:10:27.638Z"
   },
   {
    "duration": 12,
    "start_time": "2022-05-12T12:10:34.000Z"
   },
   {
    "duration": 5,
    "start_time": "2022-05-12T12:11:04.100Z"
   },
   {
    "duration": 18,
    "start_time": "2022-05-12T12:11:34.700Z"
   },
   {
    "duration": 7,
    "start_time": "2022-05-12T12:13:46.112Z"
   },
   {
    "duration": 139,
    "start_time": "2022-05-12T12:15:28.534Z"
   },
   {
    "duration": 14,
    "start_time": "2022-05-12T12:19:46.060Z"
   },
   {
    "duration": 11,
    "start_time": "2022-05-12T12:20:15.461Z"
   },
   {
    "duration": 6,
    "start_time": "2022-05-12T12:20:17.386Z"
   },
   {
    "duration": 9,
    "start_time": "2022-05-12T12:20:18.021Z"
   },
   {
    "duration": 5,
    "start_time": "2022-05-12T12:21:20.689Z"
   },
   {
    "duration": 8,
    "start_time": "2022-05-12T12:21:21.297Z"
   },
   {
    "duration": 7,
    "start_time": "2022-05-12T12:21:36.572Z"
   },
   {
    "duration": 4,
    "start_time": "2022-05-12T12:21:37.222Z"
   },
   {
    "duration": 7,
    "start_time": "2022-05-12T12:21:51.282Z"
   },
   {
    "duration": 4,
    "start_time": "2022-05-12T12:21:51.811Z"
   },
   {
    "duration": 8,
    "start_time": "2022-05-12T12:22:23.989Z"
   },
   {
    "duration": 15,
    "start_time": "2022-05-12T12:23:04.101Z"
   },
   {
    "duration": 8,
    "start_time": "2022-05-12T12:23:19.635Z"
   },
   {
    "duration": 6,
    "start_time": "2022-05-12T12:23:30.427Z"
   },
   {
    "duration": 6,
    "start_time": "2022-05-12T12:25:58.357Z"
   },
   {
    "duration": 15,
    "start_time": "2022-05-12T12:25:59.369Z"
   },
   {
    "duration": 7,
    "start_time": "2022-05-12T12:26:11.637Z"
   },
   {
    "duration": 372,
    "start_time": "2022-05-12T12:27:16.387Z"
   },
   {
    "duration": 113257,
    "start_time": "2022-05-12T12:27:20.348Z"
   },
   {
    "duration": 562,
    "start_time": "2022-05-12T12:34:30.353Z"
   },
   {
    "duration": 109764,
    "start_time": "2022-05-12T12:34:31.023Z"
   },
   {
    "duration": 6518,
    "start_time": "2022-05-12T12:36:50.491Z"
   },
   {
    "duration": 28,
    "start_time": "2022-05-12T12:49:47.147Z"
   },
   {
    "duration": 23,
    "start_time": "2022-05-12T12:50:12.393Z"
   },
   {
    "duration": 25,
    "start_time": "2022-05-12T12:50:46.748Z"
   },
   {
    "duration": 6,
    "start_time": "2022-05-12T12:51:30.598Z"
   },
   {
    "duration": 4,
    "start_time": "2022-05-12T12:51:40.080Z"
   },
   {
    "duration": 5,
    "start_time": "2022-05-12T12:51:51.180Z"
   },
   {
    "duration": 2171,
    "start_time": "2022-05-18T15:39:03.683Z"
   },
   {
    "duration": 4,
    "start_time": "2022-05-18T15:39:16.925Z"
   },
   {
    "duration": 159,
    "start_time": "2022-05-18T15:39:27.424Z"
   },
   {
    "duration": 5,
    "start_time": "2022-05-18T15:39:35.803Z"
   },
   {
    "duration": 7,
    "start_time": "2022-05-18T15:40:38.222Z"
   },
   {
    "duration": 2,
    "start_time": "2022-05-18T15:40:39.347Z"
   },
   {
    "duration": 3,
    "start_time": "2022-05-18T15:40:49.523Z"
   },
   {
    "duration": 10,
    "start_time": "2022-05-18T15:42:53.323Z"
   },
   {
    "duration": 4,
    "start_time": "2022-05-18T15:43:00.649Z"
   },
   {
    "duration": 187,
    "start_time": "2022-05-18T15:43:03.239Z"
   },
   {
    "duration": 4,
    "start_time": "2022-05-18T15:43:12.163Z"
   },
   {
    "duration": 53,
    "start_time": "2022-05-18T15:43:16.550Z"
   },
   {
    "duration": 22,
    "start_time": "2022-05-18T15:43:18.307Z"
   },
   {
    "duration": 2,
    "start_time": "2022-05-18T15:43:20.642Z"
   },
   {
    "duration": 395,
    "start_time": "2022-05-18T15:43:21.968Z"
   },
   {
    "duration": 2725,
    "start_time": "2022-05-18T15:43:33.349Z"
   },
   {
    "duration": 2735,
    "start_time": "2022-05-18T15:43:53.940Z"
   },
   {
    "duration": 2766,
    "start_time": "2022-05-18T15:45:54.421Z"
   },
   {
    "duration": 2601,
    "start_time": "2022-05-18T15:46:01.906Z"
   },
   {
    "duration": 2708,
    "start_time": "2022-05-18T15:46:30.051Z"
   },
   {
    "duration": 2734,
    "start_time": "2022-05-18T15:47:23.753Z"
   },
   {
    "duration": 2409,
    "start_time": "2022-05-18T15:48:11.673Z"
   },
   {
    "duration": 4628,
    "start_time": "2022-05-18T15:48:44.333Z"
   },
   {
    "duration": 3,
    "start_time": "2022-05-18T15:49:24.863Z"
   },
   {
    "duration": 2634,
    "start_time": "2022-05-18T15:49:25.793Z"
   },
   {
    "duration": 3,
    "start_time": "2022-05-18T15:50:01.984Z"
   },
   {
    "duration": 75,
    "start_time": "2022-05-18T15:52:00.083Z"
   },
   {
    "duration": 315,
    "start_time": "2022-05-18T15:52:55.441Z"
   },
   {
    "duration": 11,
    "start_time": "2022-05-18T15:54:02.034Z"
   },
   {
    "duration": 14,
    "start_time": "2022-05-18T15:54:09.923Z"
   },
   {
    "duration": 41,
    "start_time": "2022-05-18T15:54:22.144Z"
   },
   {
    "duration": 2727,
    "start_time": "2022-05-18T15:54:27.364Z"
   },
   {
    "duration": 2718,
    "start_time": "2022-05-18T15:55:12.924Z"
   },
   {
    "duration": 20530,
    "start_time": "2022-05-18T15:55:30.534Z"
   },
   {
    "duration": 24,
    "start_time": "2022-05-18T15:56:09.995Z"
   },
   {
    "duration": 9301,
    "start_time": "2022-05-18T15:56:42.653Z"
   },
   {
    "duration": 2515,
    "start_time": "2022-05-18T15:58:42.935Z"
   },
   {
    "duration": 4,
    "start_time": "2022-05-18T15:59:35.926Z"
   },
   {
    "duration": 2747,
    "start_time": "2022-05-18T15:59:37.042Z"
   },
   {
    "duration": 199,
    "start_time": "2022-05-18T16:00:16.144Z"
   },
   {
    "duration": 197,
    "start_time": "2022-05-18T16:00:37.060Z"
   },
   {
    "duration": 2680,
    "start_time": "2022-05-18T16:01:23.292Z"
   },
   {
    "duration": 41555,
    "start_time": "2022-05-18T16:01:38.923Z"
   },
   {
    "duration": 718,
    "start_time": "2022-05-18T16:03:16.423Z"
   },
   {
    "duration": 705,
    "start_time": "2022-05-18T16:03:21.223Z"
   },
   {
    "duration": 2684,
    "start_time": "2022-05-18T16:03:41.958Z"
   },
   {
    "duration": 2632,
    "start_time": "2022-05-18T16:09:22.559Z"
   },
   {
    "duration": 61,
    "start_time": "2022-05-18T16:09:48.780Z"
   },
   {
    "duration": 206,
    "start_time": "2022-05-18T16:10:03.725Z"
   },
   {
    "duration": 199,
    "start_time": "2022-05-18T16:10:20.940Z"
   },
   {
    "duration": 1582,
    "start_time": "2022-05-18T16:10:45.757Z"
   },
   {
    "duration": 804,
    "start_time": "2022-05-18T16:11:45.481Z"
   },
   {
    "duration": 203,
    "start_time": "2022-05-18T16:13:12.528Z"
   },
   {
    "duration": 235,
    "start_time": "2022-05-18T16:13:31.820Z"
   },
   {
    "duration": 11,
    "start_time": "2022-05-18T16:24:19.418Z"
   },
   {
    "duration": 11,
    "start_time": "2022-05-18T16:24:27.490Z"
   },
   {
    "duration": 2814,
    "start_time": "2022-05-18T16:24:28.214Z"
   },
   {
    "duration": 3,
    "start_time": "2022-05-18T16:25:04.333Z"
   },
   {
    "duration": 2731,
    "start_time": "2022-05-18T16:25:05.460Z"
   },
   {
    "duration": 3,
    "start_time": "2022-05-18T16:25:36.132Z"
   },
   {
    "duration": 824,
    "start_time": "2022-05-18T16:25:37.174Z"
   },
   {
    "duration": 644,
    "start_time": "2022-05-18T16:25:50.483Z"
   },
   {
    "duration": 10,
    "start_time": "2022-05-18T16:25:52.255Z"
   },
   {
    "duration": 770,
    "start_time": "2022-05-18T16:26:00.941Z"
   },
   {
    "duration": 3,
    "start_time": "2022-05-18T16:26:51.429Z"
   },
   {
    "duration": 1116,
    "start_time": "2022-05-18T16:26:56.150Z"
   },
   {
    "duration": 84,
    "start_time": "2022-05-18T16:27:43.462Z"
   },
   {
    "duration": 188,
    "start_time": "2022-05-18T16:28:08.171Z"
   },
   {
    "duration": 3,
    "start_time": "2022-05-18T16:29:03.669Z"
   },
   {
    "duration": 2625,
    "start_time": "2022-05-18T16:29:06.868Z"
   },
   {
    "duration": 4,
    "start_time": "2022-05-18T16:30:32.588Z"
   },
   {
    "duration": 2673,
    "start_time": "2022-05-18T16:30:35.340Z"
   },
   {
    "duration": 2636,
    "start_time": "2022-05-18T16:31:27.085Z"
   },
   {
    "duration": 2861,
    "start_time": "2022-05-18T16:34:52.163Z"
   },
   {
    "duration": 3063,
    "start_time": "2022-05-18T16:35:18.517Z"
   },
   {
    "duration": 1929,
    "start_time": "2022-05-18T19:20:38.423Z"
   },
   {
    "duration": 160,
    "start_time": "2022-05-18T19:20:40.354Z"
   },
   {
    "duration": 4,
    "start_time": "2022-05-18T19:20:43.761Z"
   },
   {
    "duration": 49,
    "start_time": "2022-05-18T19:20:47.384Z"
   },
   {
    "duration": 5,
    "start_time": "2022-05-18T19:21:13.645Z"
   },
   {
    "duration": 6,
    "start_time": "2022-05-18T19:21:28.016Z"
   },
   {
    "duration": 5,
    "start_time": "2022-05-18T19:21:33.265Z"
   },
   {
    "duration": 6,
    "start_time": "2022-05-18T19:21:39.956Z"
   },
   {
    "duration": 6,
    "start_time": "2022-05-18T19:30:28.501Z"
   },
   {
    "duration": 6,
    "start_time": "2022-05-18T19:33:42.761Z"
   },
   {
    "duration": 686,
    "start_time": "2022-05-18T19:38:11.809Z"
   },
   {
    "duration": 20,
    "start_time": "2022-05-18T19:38:50.488Z"
   },
   {
    "duration": 7,
    "start_time": "2022-05-18T19:40:13.176Z"
   },
   {
    "duration": 20,
    "start_time": "2022-05-18T19:40:22.722Z"
   },
   {
    "duration": 13,
    "start_time": "2022-05-18T19:40:51.143Z"
   },
   {
    "duration": 4,
    "start_time": "2022-05-18T20:37:03.757Z"
   },
   {
    "duration": 146,
    "start_time": "2022-05-18T20:37:12.072Z"
   },
   {
    "duration": 10,
    "start_time": "2022-05-18T20:37:16.906Z"
   },
   {
    "duration": 4,
    "start_time": "2022-05-18T20:37:20.676Z"
   },
   {
    "duration": 8,
    "start_time": "2022-05-18T20:37:21.420Z"
   },
   {
    "duration": 8,
    "start_time": "2022-05-18T20:37:22.338Z"
   },
   {
    "duration": 6,
    "start_time": "2022-05-18T20:37:23.076Z"
   },
   {
    "duration": 5,
    "start_time": "2022-05-18T20:37:24.106Z"
   },
   {
    "duration": 442,
    "start_time": "2022-05-18T20:37:25.958Z"
   },
   {
    "duration": 38,
    "start_time": "2022-05-18T20:37:53.809Z"
   },
   {
    "duration": 3,
    "start_time": "2022-05-18T20:41:05.302Z"
   },
   {
    "duration": 7,
    "start_time": "2022-05-18T20:42:45.540Z"
   },
   {
    "duration": 631,
    "start_time": "2022-05-18T20:42:48.718Z"
   },
   {
    "duration": 116376,
    "start_time": "2022-05-18T20:42:56.479Z"
   },
   {
    "duration": 18,
    "start_time": "2022-05-18T20:46:59.932Z"
   },
   {
    "duration": 1422,
    "start_time": "2022-05-18T20:47:08.588Z"
   },
   {
    "duration": 4,
    "start_time": "2022-05-18T20:47:11.543Z"
   },
   {
    "duration": 18,
    "start_time": "2022-05-18T20:47:12.719Z"
   },
   {
    "duration": 17,
    "start_time": "2022-05-18T20:47:13.778Z"
   },
   {
    "duration": 15,
    "start_time": "2022-05-18T20:47:24.272Z"
   },
   {
    "duration": 3326,
    "start_time": "2022-05-18T20:48:56.208Z"
   },
   {
    "duration": 42,
    "start_time": "2022-05-18T20:59:05.866Z"
   },
   {
    "duration": 1500,
    "start_time": "2022-05-19T16:17:28.831Z"
   },
   {
    "duration": 154,
    "start_time": "2022-05-19T16:17:30.333Z"
   },
   {
    "duration": 4,
    "start_time": "2022-05-19T16:17:30.488Z"
   },
   {
    "duration": 76,
    "start_time": "2022-05-19T16:17:30.494Z"
   },
   {
    "duration": 26,
    "start_time": "2022-05-19T16:17:30.571Z"
   },
   {
    "duration": 2567,
    "start_time": "2022-05-19T16:17:30.599Z"
   },
   {
    "duration": 1630,
    "start_time": "2022-05-19T16:17:33.168Z"
   },
   {
    "duration": 5,
    "start_time": "2022-05-19T16:17:34.800Z"
   },
   {
    "duration": 20,
    "start_time": "2022-05-19T16:17:34.806Z"
   },
   {
    "duration": 16,
    "start_time": "2022-05-19T16:17:34.829Z"
   },
   {
    "duration": 15,
    "start_time": "2022-05-19T16:17:34.847Z"
   },
   {
    "duration": 6,
    "start_time": "2022-05-19T16:17:34.864Z"
   },
   {
    "duration": 391,
    "start_time": "2022-05-19T16:17:34.871Z"
   },
   {
    "duration": 98,
    "start_time": "2022-05-19T16:17:35.314Z"
   },
   {
    "duration": 575,
    "start_time": "2022-05-19T16:17:35.414Z"
   },
   {
    "duration": 106498,
    "start_time": "2022-05-19T16:17:35.990Z"
   },
   {
    "duration": 1630,
    "start_time": "2022-05-19T16:19:22.490Z"
   },
   {
    "duration": 4,
    "start_time": "2022-05-19T16:19:24.212Z"
   },
   {
    "duration": 21,
    "start_time": "2022-05-19T16:19:24.217Z"
   },
   {
    "duration": 7,
    "start_time": "2022-05-19T16:19:24.240Z"
   },
   {
    "duration": 2986,
    "start_time": "2022-05-19T16:19:24.248Z"
   },
   {
    "duration": 40,
    "start_time": "2022-05-19T19:33:49.690Z"
   },
   {
    "duration": 37,
    "start_time": "2022-05-19T19:39:44.357Z"
   },
   {
    "duration": 33,
    "start_time": "2022-05-19T19:47:55.702Z"
   },
   {
    "duration": 1705,
    "start_time": "2022-05-19T19:54:36.375Z"
   },
   {
    "duration": 249,
    "start_time": "2022-05-19T19:54:39.445Z"
   },
   {
    "duration": 4,
    "start_time": "2022-05-19T19:54:42.977Z"
   },
   {
    "duration": 4,
    "start_time": "2022-05-19T19:55:08.547Z"
   },
   {
    "duration": 65,
    "start_time": "2022-05-19T19:56:02.349Z"
   },
   {
    "duration": 49,
    "start_time": "2022-05-19T19:57:08.726Z"
   },
   {
    "duration": 16,
    "start_time": "2022-05-19T19:57:26.225Z"
   },
   {
    "duration": 45,
    "start_time": "2022-05-19T20:01:10.816Z"
   },
   {
    "duration": 6,
    "start_time": "2022-05-19T20:03:00.506Z"
   },
   {
    "duration": 5,
    "start_time": "2022-05-19T20:03:03.477Z"
   },
   {
    "duration": 11,
    "start_time": "2022-05-19T20:03:06.150Z"
   },
   {
    "duration": 5,
    "start_time": "2022-05-19T20:03:07.804Z"
   },
   {
    "duration": 5,
    "start_time": "2022-05-19T20:03:18.016Z"
   },
   {
    "duration": 366,
    "start_time": "2022-05-19T20:03:40.251Z"
   },
   {
    "duration": 37,
    "start_time": "2022-05-19T20:06:33.677Z"
   },
   {
    "duration": 9,
    "start_time": "2022-05-19T20:07:04.313Z"
   },
   {
    "duration": 9,
    "start_time": "2022-05-19T20:10:33.370Z"
   },
   {
    "duration": 646,
    "start_time": "2022-05-19T20:10:34.516Z"
   },
   {
    "duration": 8,
    "start_time": "2022-05-19T20:10:48.686Z"
   },
   {
    "duration": 631,
    "start_time": "2022-05-19T20:10:50.296Z"
   },
   {
    "duration": 10,
    "start_time": "2022-05-19T20:14:56.842Z"
   },
   {
    "duration": 637,
    "start_time": "2022-05-19T20:14:58.610Z"
   },
   {
    "duration": 127776,
    "start_time": "2022-05-19T20:15:02.474Z"
   },
   {
    "duration": 6,
    "start_time": "2022-05-19T20:29:27.185Z"
   },
   {
    "duration": 11,
    "start_time": "2022-05-19T20:29:29.370Z"
   },
   {
    "duration": 650,
    "start_time": "2022-05-19T20:29:30.844Z"
   },
   {
    "duration": 118407,
    "start_time": "2022-05-19T20:29:35.168Z"
   },
   {
    "duration": 8,
    "start_time": "2022-05-19T20:32:36.373Z"
   },
   {
    "duration": 593,
    "start_time": "2022-05-19T20:32:37.594Z"
   },
   {
    "duration": 114840,
    "start_time": "2022-05-19T20:32:39.239Z"
   },
   {
    "duration": 118,
    "start_time": "2022-05-19T20:35:29.346Z"
   },
   {
    "duration": 14,
    "start_time": "2022-05-19T20:36:26.877Z"
   },
   {
    "duration": 10,
    "start_time": "2022-05-19T20:36:41.794Z"
   },
   {
    "duration": 536,
    "start_time": "2022-05-19T20:36:47.387Z"
   },
   {
    "duration": 116255,
    "start_time": "2022-05-19T20:36:49.946Z"
   },
   {
    "duration": 4,
    "start_time": "2022-05-19T20:43:01.525Z"
   },
   {
    "duration": 5,
    "start_time": "2022-05-19T20:43:03.229Z"
   },
   {
    "duration": 11,
    "start_time": "2022-05-19T20:43:25.150Z"
   },
   {
    "duration": 7,
    "start_time": "2022-05-19T20:43:34.649Z"
   },
   {
    "duration": 6,
    "start_time": "2022-05-19T20:43:37.747Z"
   },
   {
    "duration": 505,
    "start_time": "2022-05-19T20:43:40.439Z"
   },
   {
    "duration": 6,
    "start_time": "2022-05-19T20:44:31.970Z"
   },
   {
    "duration": 7,
    "start_time": "2022-05-19T20:44:33.340Z"
   },
   {
    "duration": 11,
    "start_time": "2022-05-19T20:44:34.371Z"
   },
   {
    "duration": 7,
    "start_time": "2022-05-19T20:44:35.349Z"
   },
   {
    "duration": 6,
    "start_time": "2022-05-19T20:44:36.786Z"
   },
   {
    "duration": 515,
    "start_time": "2022-05-19T20:44:38.651Z"
   },
   {
    "duration": 5,
    "start_time": "2022-05-19T20:45:28.513Z"
   },
   {
    "duration": 7,
    "start_time": "2022-05-19T20:45:30.071Z"
   },
   {
    "duration": 10,
    "start_time": "2022-05-19T20:45:32.530Z"
   },
   {
    "duration": 7,
    "start_time": "2022-05-19T20:45:33.600Z"
   },
   {
    "duration": 7,
    "start_time": "2022-05-19T20:45:39.238Z"
   },
   {
    "duration": 518,
    "start_time": "2022-05-19T20:45:41.677Z"
   },
   {
    "duration": 5,
    "start_time": "2022-05-19T20:47:54.246Z"
   },
   {
    "duration": 8,
    "start_time": "2022-05-19T20:47:55.146Z"
   },
   {
    "duration": 10,
    "start_time": "2022-05-19T20:47:55.937Z"
   },
   {
    "duration": 8,
    "start_time": "2022-05-19T20:47:56.948Z"
   },
   {
    "duration": 6,
    "start_time": "2022-05-19T20:47:59.403Z"
   },
   {
    "duration": 477,
    "start_time": "2022-05-19T20:48:03.176Z"
   },
   {
    "duration": 6,
    "start_time": "2022-05-19T20:48:47.942Z"
   },
   {
    "duration": 8,
    "start_time": "2022-05-19T20:48:49.281Z"
   },
   {
    "duration": 11,
    "start_time": "2022-05-19T20:48:51.107Z"
   },
   {
    "duration": 7,
    "start_time": "2022-05-19T20:48:52.120Z"
   },
   {
    "duration": 6,
    "start_time": "2022-05-19T20:48:53.285Z"
   },
   {
    "duration": 418,
    "start_time": "2022-05-19T20:48:55.403Z"
   },
   {
    "duration": 5,
    "start_time": "2022-05-19T20:49:30.217Z"
   },
   {
    "duration": 7,
    "start_time": "2022-05-19T20:49:32.477Z"
   },
   {
    "duration": 9,
    "start_time": "2022-05-19T20:49:32.763Z"
   },
   {
    "duration": 7,
    "start_time": "2022-05-19T20:49:33.827Z"
   },
   {
    "duration": 6,
    "start_time": "2022-05-19T20:49:41.728Z"
   },
   {
    "duration": 598,
    "start_time": "2022-05-19T20:49:44.257Z"
   },
   {
    "duration": 13,
    "start_time": "2022-05-19T20:51:46.685Z"
   },
   {
    "duration": 907,
    "start_time": "2022-05-19T20:51:48.775Z"
   },
   {
    "duration": 162466,
    "start_time": "2022-05-19T20:51:53.766Z"
   },
   {
    "duration": 10,
    "start_time": "2022-05-19T20:54:57.510Z"
   },
   {
    "duration": 1024,
    "start_time": "2022-05-19T20:54:59.746Z"
   },
   {
    "duration": 144827,
    "start_time": "2022-05-19T20:55:02.296Z"
   },
   {
    "duration": 35,
    "start_time": "2022-05-19T21:12:15.541Z"
   },
   {
    "duration": 1783,
    "start_time": "2022-05-19T21:14:04.965Z"
   },
   {
    "duration": 3,
    "start_time": "2022-05-19T21:14:06.750Z"
   },
   {
    "duration": 19,
    "start_time": "2022-05-19T21:14:07.399Z"
   },
   {
    "duration": 10,
    "start_time": "2022-05-19T21:14:14.060Z"
   },
   {
    "duration": 3385,
    "start_time": "2022-05-19T21:14:32.486Z"
   },
   {
    "duration": 3459,
    "start_time": "2022-05-19T21:15:56.080Z"
   },
   {
    "duration": 45,
    "start_time": "2022-05-19T21:37:11.979Z"
   },
   {
    "duration": 1317,
    "start_time": "2022-05-19T21:50:17.535Z"
   },
   {
    "duration": 56,
    "start_time": "2022-05-19T21:50:18.854Z"
   },
   {
    "duration": 4,
    "start_time": "2022-05-19T21:50:18.911Z"
   },
   {
    "duration": 5,
    "start_time": "2022-05-19T21:50:18.917Z"
   },
   {
    "duration": 48,
    "start_time": "2022-05-19T21:50:18.923Z"
   },
   {
    "duration": 17,
    "start_time": "2022-05-19T21:50:18.973Z"
   },
   {
    "duration": 2418,
    "start_time": "2022-05-19T21:50:18.992Z"
   },
   {
    "duration": 1569,
    "start_time": "2022-05-19T21:50:21.411Z"
   },
   {
    "duration": 4,
    "start_time": "2022-05-19T21:50:22.982Z"
   },
   {
    "duration": 8,
    "start_time": "2022-05-19T21:50:22.988Z"
   },
   {
    "duration": 9,
    "start_time": "2022-05-19T21:50:22.997Z"
   },
   {
    "duration": 4,
    "start_time": "2022-05-19T21:50:23.008Z"
   },
   {
    "duration": 6,
    "start_time": "2022-05-19T21:50:23.013Z"
   },
   {
    "duration": 393,
    "start_time": "2022-05-19T21:50:23.020Z"
   },
   {
    "duration": 9,
    "start_time": "2022-05-19T21:50:23.415Z"
   },
   {
    "duration": 595,
    "start_time": "2022-05-19T21:50:23.425Z"
   },
   {
    "duration": 111091,
    "start_time": "2022-05-19T21:50:24.022Z"
   },
   {
    "duration": 1731,
    "start_time": "2022-05-19T21:52:15.114Z"
   },
   {
    "duration": 7,
    "start_time": "2022-05-19T21:52:16.847Z"
   },
   {
    "duration": 27,
    "start_time": "2022-05-19T21:52:16.855Z"
   },
   {
    "duration": 11,
    "start_time": "2022-05-19T21:52:16.884Z"
   },
   {
    "duration": 3095,
    "start_time": "2022-05-19T21:52:16.942Z"
   },
   {
    "duration": 1430,
    "start_time": "2022-05-20T11:24:37.763Z"
   },
   {
    "duration": 65,
    "start_time": "2022-05-20T11:24:39.195Z"
   },
   {
    "duration": 3,
    "start_time": "2022-05-20T11:24:39.261Z"
   },
   {
    "duration": 13,
    "start_time": "2022-05-20T11:24:39.267Z"
   },
   {
    "duration": 47,
    "start_time": "2022-05-20T11:24:39.281Z"
   },
   {
    "duration": 15,
    "start_time": "2022-05-20T11:24:39.329Z"
   },
   {
    "duration": 2371,
    "start_time": "2022-05-20T11:24:39.352Z"
   },
   {
    "duration": 1668,
    "start_time": "2022-05-20T11:24:41.724Z"
   },
   {
    "duration": 4,
    "start_time": "2022-05-20T11:24:43.394Z"
   },
   {
    "duration": 40,
    "start_time": "2022-05-20T11:24:43.400Z"
   },
   {
    "duration": 15,
    "start_time": "2022-05-20T11:24:43.442Z"
   },
   {
    "duration": 20,
    "start_time": "2022-05-20T11:24:43.459Z"
   },
   {
    "duration": 46,
    "start_time": "2022-05-20T11:24:43.481Z"
   },
   {
    "duration": 399,
    "start_time": "2022-05-20T11:24:43.529Z"
   },
   {
    "duration": 9,
    "start_time": "2022-05-20T11:24:43.929Z"
   },
   {
    "duration": 571,
    "start_time": "2022-05-20T11:24:43.940Z"
   },
   {
    "duration": 113553,
    "start_time": "2022-05-20T11:24:44.513Z"
   },
   {
    "duration": 1484,
    "start_time": "2022-05-20T11:26:38.068Z"
   },
   {
    "duration": 4,
    "start_time": "2022-05-20T11:26:39.554Z"
   },
   {
    "duration": 109,
    "start_time": "2022-05-20T11:26:39.560Z"
   },
   {
    "duration": 8,
    "start_time": "2022-05-20T11:26:39.671Z"
   },
   {
    "duration": 3200,
    "start_time": "2022-05-20T11:26:39.680Z"
   },
   {
    "duration": 1233,
    "start_time": "2022-05-20T11:30:49.902Z"
   },
   {
    "duration": 42,
    "start_time": "2022-05-20T11:30:51.137Z"
   },
   {
    "duration": 3,
    "start_time": "2022-05-20T11:30:51.180Z"
   },
   {
    "duration": 7,
    "start_time": "2022-05-20T11:30:51.185Z"
   },
   {
    "duration": 59,
    "start_time": "2022-05-20T11:30:51.194Z"
   },
   {
    "duration": 17,
    "start_time": "2022-05-20T11:30:51.255Z"
   },
   {
    "duration": 2382,
    "start_time": "2022-05-20T11:30:51.274Z"
   },
   {
    "duration": 1570,
    "start_time": "2022-05-20T11:30:53.658Z"
   },
   {
    "duration": 4,
    "start_time": "2022-05-20T11:30:55.231Z"
   },
   {
    "duration": 14,
    "start_time": "2022-05-20T11:30:55.239Z"
   },
   {
    "duration": 23,
    "start_time": "2022-05-20T11:30:55.255Z"
   },
   {
    "duration": 14,
    "start_time": "2022-05-20T11:30:55.280Z"
   },
   {
    "duration": 11,
    "start_time": "2022-05-20T11:30:55.297Z"
   },
   {
    "duration": 429,
    "start_time": "2022-05-20T11:30:55.311Z"
   },
   {
    "duration": 13,
    "start_time": "2022-05-20T11:30:55.741Z"
   },
   {
    "duration": 543,
    "start_time": "2022-05-20T11:30:55.756Z"
   },
   {
    "duration": 111612,
    "start_time": "2022-05-20T11:30:56.300Z"
   },
   {
    "duration": 1738,
    "start_time": "2022-05-20T11:32:47.914Z"
   },
   {
    "duration": 4,
    "start_time": "2022-05-20T11:32:49.654Z"
   },
   {
    "duration": 23,
    "start_time": "2022-05-20T11:32:49.660Z"
   },
   {
    "duration": 10,
    "start_time": "2022-05-20T11:32:49.685Z"
   },
   {
    "duration": 3185,
    "start_time": "2022-05-20T11:32:49.698Z"
   },
   {
    "duration": 1286,
    "start_time": "2022-05-20T11:33:02.431Z"
   },
   {
    "duration": 43,
    "start_time": "2022-05-20T11:33:03.719Z"
   },
   {
    "duration": 4,
    "start_time": "2022-05-20T11:33:03.763Z"
   },
   {
    "duration": 12,
    "start_time": "2022-05-20T11:33:03.768Z"
   },
   {
    "duration": 51,
    "start_time": "2022-05-20T11:33:03.781Z"
   },
   {
    "duration": 28,
    "start_time": "2022-05-20T11:33:03.834Z"
   },
   {
    "duration": 2416,
    "start_time": "2022-05-20T11:33:03.864Z"
   },
   {
    "duration": 1494,
    "start_time": "2022-05-20T11:33:06.282Z"
   },
   {
    "duration": 5,
    "start_time": "2022-05-20T11:33:07.778Z"
   },
   {
    "duration": 11,
    "start_time": "2022-05-20T11:33:07.786Z"
   },
   {
    "duration": 18,
    "start_time": "2022-05-20T11:33:07.799Z"
   },
   {
    "duration": 8,
    "start_time": "2022-05-20T11:33:07.819Z"
   },
   {
    "duration": 11,
    "start_time": "2022-05-20T11:33:07.828Z"
   },
   {
    "duration": 365,
    "start_time": "2022-05-20T11:33:07.841Z"
   },
   {
    "duration": 7,
    "start_time": "2022-05-20T11:33:08.207Z"
   },
   {
    "duration": 539,
    "start_time": "2022-05-20T11:33:08.216Z"
   },
   {
    "duration": 109618,
    "start_time": "2022-05-20T11:33:08.757Z"
   },
   {
    "duration": 1476,
    "start_time": "2022-05-20T11:34:58.376Z"
   },
   {
    "duration": 4,
    "start_time": "2022-05-20T11:34:59.854Z"
   },
   {
    "duration": 113,
    "start_time": "2022-05-20T11:34:59.859Z"
   },
   {
    "duration": 8,
    "start_time": "2022-05-20T11:34:59.974Z"
   },
   {
    "duration": 3105,
    "start_time": "2022-05-20T11:34:59.984Z"
   }
  ],
  "kernelspec": {
   "display_name": "Python 3 (ipykernel)",
   "language": "python",
   "name": "python3"
  },
  "language_info": {
   "codemirror_mode": {
    "name": "ipython",
    "version": 3
   },
   "file_extension": ".py",
   "mimetype": "text/x-python",
   "name": "python",
   "nbconvert_exporter": "python",
   "pygments_lexer": "ipython3",
   "version": "3.9.5"
  },
  "toc": {
   "base_numbering": 1,
   "nav_menu": {},
   "number_sections": true,
   "sideBar": true,
   "skip_h1_title": true,
   "title_cell": "Table of Contents",
   "title_sidebar": "Contents",
   "toc_cell": false,
   "toc_position": {},
   "toc_section_display": true,
   "toc_window_display": false
  }
 },
 "nbformat": 4,
 "nbformat_minor": 2
}
